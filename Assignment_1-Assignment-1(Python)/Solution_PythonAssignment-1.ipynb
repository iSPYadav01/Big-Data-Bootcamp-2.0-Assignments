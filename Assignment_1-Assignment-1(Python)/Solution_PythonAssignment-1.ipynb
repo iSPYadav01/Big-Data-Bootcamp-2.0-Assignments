{
 "cells": [
  {
   "cell_type": "markdown",
   "id": "e5321134-1db5-4806-9a04-cb2977e3391d",
   "metadata": {
    "tags": []
   },
   "source": [
    "## Assignment-1\n",
    "##### BigDataQuestions main(Python Assignment).zip\n",
    "##### [PythonAssignment-1.md](https://drive.google.com/file/d/1PMKiAqMHm9hZS6yB2-X1yZl3oTMGbbOP/view)\n",
    "\n",
    "#### [iNeuron-Bigdata-BootCamp 2.0]((https://github.com/iSPYadav01/Big-Data-Bootcamp-2.0-Assignments))\n",
    "* Name-Surendra Kumar Yadav\n",
    "* Mail-yadavsp987@gmail.com\n",
    "---\n",
    "---"
   ]
  },
  {
   "cell_type": "markdown",
   "id": "629544f3-e768-4f50-b2c2-e4972cfe01dc",
   "metadata": {},
   "source": [
    "Q1. Why do we call Python as a general purpose and high-level programming language?"
   ]
  },
  {
   "cell_type": "raw",
   "id": "2ae86244-70a8-4beb-815d-a8c325a7dd0f",
   "metadata": {},
   "source": [
    "Because they are not written in machine-readable language, Python programs need to be processed before machines can run them. Python is an interpreted language. This means that every time a program is run, its interpreter runs through the code and translates it into machine-readable byte code."
   ]
  },
  {
   "cell_type": "markdown",
   "id": "66312b87-117d-45da-9de9-960b760043e4",
   "metadata": {},
   "source": [
    "---\n",
    "Q2. Why is Python called a dynamically typed language?"
   ]
  },
  {
   "cell_type": "raw",
   "id": "d3dc374d-f303-4809-8450-2b8552f959d1",
   "metadata": {},
   "source": [
    "Python is both a strongly typed and a dynamically typed language. Strong typing means that variables do have a type and that the type matters when performing operations on a variable. Dynamic typing means that the type of the variable is determined only during runtime. Dynamically-typed languages are those (like Python, JavaScript) where the interpreter assigns variables a type at runtime based on the variable's value at the time."
   ]
  },
  {
   "cell_type": "markdown",
   "id": "5dac328d-b706-431a-bca6-c40d29fb1841",
   "metadata": {},
   "source": [
    "---\n",
    "Q3. List some pros and cons of Python programming language?"
   ]
  },
  {
   "cell_type": "raw",
   "id": "8d1623a7-8b87-4473-83bd-fd07c7b68f74",
   "metadata": {},
   "source": [
    "Pros:\n",
    "    Its Simple, easy to use.\n",
    "    Its Free\n",
    "    Object Oriented\n",
    "    Contains lot of libraries supports ML, DL, etc\n",
    "    Widely applicable\n",
    "    \n",
    "Cons:\n",
    "    Runtime error\n",
    "    Poor memory management.\n",
    "    Slow\n",
    "    Not complete support for mobile app development"
   ]
  },
  {
   "cell_type": "markdown",
   "id": "d3eff0da-c849-4443-ab33-214957c2353a",
   "metadata": {},
   "source": [
    "---\n",
    "Q4. In what all domains can we use Python?"
   ]
  },
  {
   "cell_type": "raw",
   "id": "2864c906-d3ce-43ee-8d04-ea9cc9f0e796",
   "metadata": {},
   "source": [
    "Data Science, Machine Learning, Deep Learning, AI, Data Engineering Web Application Game Development"
   ]
  },
  {
   "cell_type": "markdown",
   "id": "58a25418-ac0a-46ab-b25c-54c4dd88a603",
   "metadata": {},
   "source": [
    "---\n",
    "Q5. What are variable and how can we declare them?"
   ]
  },
  {
   "cell_type": "raw",
   "id": "3f9b15aa-2394-4fd1-8600-832156c1a497",
   "metadata": {},
   "source": [
    "Variables are a storage object which holds the data which can be used in the program\n",
    "\n",
    "a = 10"
   ]
  },
  {
   "cell_type": "markdown",
   "id": "82100ddb-7e42-4192-83b3-83211e7cb774",
   "metadata": {},
   "source": [
    "---\n",
    "Q6. How can we take an input from the user in Python?"
   ]
  },
  {
   "cell_type": "raw",
   "id": "b44310aa-bb24-457d-8475-eec59353559e",
   "metadata": {},
   "source": [
    "Using input() function user can read the input in runtime."
   ]
  },
  {
   "cell_type": "markdown",
   "id": "af8d9e5e-69b3-4031-a7f2-08a33bf6c777",
   "metadata": {},
   "source": [
    "---\n",
    "Q7. What is the default datatype of the value that has been taken as an input using input() function?"
   ]
  },
  {
   "cell_type": "raw",
   "id": "d1b83460-5d40-42d1-955f-47ab22b6f1d0",
   "metadata": {},
   "source": [
    "Default datatype of input() is string."
   ]
  },
  {
   "cell_type": "markdown",
   "id": "50b69dc8-8aec-49fc-bc21-2b67378b4cb8",
   "metadata": {},
   "source": [
    "---\n",
    "Q8. What is type casting?"
   ]
  },
  {
   "cell_type": "raw",
   "id": "2e5ba359-308e-4cdb-a501-8cedfbdfc459",
   "metadata": {},
   "source": [
    "type casting is converting a variable from one datatype to another datatype."
   ]
  },
  {
   "cell_type": "markdown",
   "id": "75e5577f-4634-4d97-8ae5-030bdf38882f",
   "metadata": {},
   "source": [
    "---\n",
    "Q9. Can we take more than one input from the user using single input() function? If yes, how? If no, why?"
   ]
  },
  {
   "cell_type": "raw",
   "id": "f7c6a551-09c3-424b-b355-493ab1489d5d",
   "metadata": {},
   "source": [
    "We can get multiple input with delimeter and use split() function to use to store in different variables.\n",
    "\n",
    "x,y = input().split()"
   ]
  },
  {
   "cell_type": "markdown",
   "id": "b6e1f36a-a81a-4764-9328-a77cd23cac27",
   "metadata": {},
   "source": [
    "---\n",
    "Q10. What are keywords?"
   ]
  },
  {
   "cell_type": "raw",
   "id": "39ed6df2-da06-42b2-850a-b64568a4094a",
   "metadata": {},
   "source": [
    "Keywords are system defined objects which cant be use by the user as variable name and function name."
   ]
  },
  {
   "cell_type": "markdown",
   "id": "6e8807a4-3ce3-460e-b6c1-1fda75175060",
   "metadata": {},
   "source": [
    "---\n",
    "Q11. Can we use keywords as a variable? Support your answer with reason."
   ]
  },
  {
   "cell_type": "raw",
   "id": "4653e0e7-bca6-40d6-8530-0fb204c091ed",
   "metadata": {},
   "source": [
    "No we cant. Keywords are system defined objects which cant be use by the user as variable name and function name."
   ]
  },
  {
   "cell_type": "markdown",
   "id": "a3f916a8-4064-4863-a594-4f3ad92244c2",
   "metadata": {},
   "source": [
    "---\n",
    "Q12. What is indentation? What's the use of indentaion in Python?"
   ]
  },
  {
   "cell_type": "raw",
   "id": "46785c96-7a10-4027-a07e-5734a68803d3",
   "metadata": {},
   "source": [
    "Indentation refers to the spaces at the beginning of a code line. Where in other programming languages the indentation in code is for readability only, the indentation in Python is very important. Python uses indentation to indicate a block of code."
   ]
  },
  {
   "cell_type": "markdown",
   "id": "d6bcdd06-075d-4cf1-a1b6-cb730fd4bb73",
   "metadata": {},
   "source": [
    "---\n",
    "Q13. How can we throw some output in Python?"
   ]
  },
  {
   "cell_type": "raw",
   "id": "461c07c1-bf53-46a2-a8c3-be1d3e2df4a3",
   "metadata": {},
   "source": [
    "Using print() statement."
   ]
  },
  {
   "cell_type": "markdown",
   "id": "fcceec69-65fc-4a4f-8987-88b939a397ce",
   "metadata": {},
   "source": [
    "---\n",
    "Q14. What are operators in Python?"
   ]
  },
  {
   "cell_type": "raw",
   "id": "dc325720-166d-45ee-9575-6ff2c9b4500b",
   "metadata": {},
   "source": [
    "Operators are special charectors which do one specific operation on the given variables."
   ]
  },
  {
   "cell_type": "markdown",
   "id": "56d5cf2f-c3a2-43e0-aa35-395abb694c07",
   "metadata": {},
   "source": [
    "---\n",
    "Q15. What is difference between / and // operators?"
   ]
  },
  {
   "cell_type": "raw",
   "id": "a32210a9-5c6b-4cfd-b892-5d7cd1a3ee31",
   "metadata": {},
   "source": [
    "// - Command the code which exclude from python interpretter.\n",
    "\n",
    "/ - division operator returns decimal output."
   ]
  },
  {
   "cell_type": "markdown",
   "id": "4178d9a4-de48-4d2e-98c4-3d9c242d6f5e",
   "metadata": {},
   "source": [
    "---\n",
    "Q16. Write a code that gives following as an output.\n",
    "\n",
    "```\n",
    ": iNeuroniNeuroniNeuroniNeuron\n",
    "```"
   ]
  },
  {
   "cell_type": "code",
   "execution_count": 6,
   "id": "939436a0-fe18-4d4f-b7c5-34cbb0417c17",
   "metadata": {},
   "outputs": [
    {
     "name": "stdout",
     "output_type": "stream",
     "text": [
      "iNeuroniNeuroniNeuroniNeuron\n"
     ]
    }
   ],
   "source": [
    "print(4 * 'iNeuron')"
   ]
  },
  {
   "cell_type": "markdown",
   "id": "b28b5efb-a0d3-4708-b76d-c263c5d90abb",
   "metadata": {},
   "source": [
    "---\n",
    "Q17. Write a code to take a number as an input from the user and check if the number is odd or even."
   ]
  },
  {
   "cell_type": "code",
   "execution_count": 9,
   "id": "56d1fff1-85b6-4dfe-b761-e473e83c310a",
   "metadata": {},
   "outputs": [
    {
     "name": "stdin",
     "output_type": "stream",
     "text": [
      " 5\n"
     ]
    },
    {
     "name": "stdout",
     "output_type": "stream",
     "text": [
      "Odd\n"
     ]
    }
   ],
   "source": [
    "number = int(input())\n",
    "\n",
    "if number % 2 == 0:\n",
    "    print(\"Even\")\n",
    "else:\n",
    "    print(\"Odd\")"
   ]
  },
  {
   "cell_type": "markdown",
   "id": "957d3ed6-0ce8-49db-a94b-6e3646a8ccfe",
   "metadata": {},
   "source": [
    "---\n",
    "Q18. What are boolean operator?"
   ]
  },
  {
   "cell_type": "raw",
   "id": "f9176d12-8918-47e0-8de9-5c53c572a544",
   "metadata": {},
   "source": [
    "The logical operators and, or and not are also referred to as boolean operators. While and as well as or operator needs two operands, which may evaluate to true or false, not operator needs one operand evaluating to true or false. Boolean and operator returns true if both operands return true"
   ]
  },
  {
   "cell_type": "markdown",
   "id": "1340ea72-a627-43bd-8c6f-e664e6e49051",
   "metadata": {},
   "source": [
    "---\n",
    "Q19. What will the output of the following?\n",
    "```\n",
    "1 or 0\n",
    "\n",
    "0 and 0\n",
    "\n",
    "True and False and True\n",
    "\n",
    "1 or 0 or 0\n",
    "```"
   ]
  },
  {
   "cell_type": "raw",
   "id": "7eee80e5-d592-4ab1-8d6e-0a77a5683c74",
   "metadata": {},
   "source": [
    "1 or 0 -> 1\n",
    "0 and 0 -> 0\n",
    "True and False and True -> False\n",
    "1 or 0 or 0 -> 1"
   ]
  },
  {
   "cell_type": "markdown",
   "id": "593470c7-1d66-4e72-89b4-a1cdb918e39d",
   "metadata": {},
   "source": [
    "---\n",
    "Q20. What are conditional statements in Python?"
   ]
  },
  {
   "cell_type": "raw",
   "id": "39e1a9e8-3f10-4802-9f41-73c11fa7ddac",
   "metadata": {},
   "source": [
    "Conditional statements in python are If and nested statements which used to check the multiple condition on a sequence manner and return the output."
   ]
  },
  {
   "cell_type": "markdown",
   "id": "47c8f529-1ad1-4df8-a559-b24460685cf4",
   "metadata": {},
   "source": [
    "---\n",
    "Q21. What is use of 'if', 'elif' and 'else' keywords?"
   ]
  },
  {
   "cell_type": "raw",
   "id": "0dda7ea6-b363-47a6-a229-175fe2cbcefa",
   "metadata": {},
   "source": [
    "if --> to check the first statement is true or false elif --> to check after first statement whether the condision(s) is true or false else --> to return/ print a statement or value when all the if and elif is failed."
   ]
  },
  {
   "cell_type": "markdown",
   "id": "8fbdeba2-260a-4e25-9a41-c50c93c29477",
   "metadata": {},
   "source": [
    "---\n",
    "Q22. Write a code to take the age of person as an input and if age >= 18 display \"I can vote\". If age is < 18 display \"I can't vote\"."
   ]
  },
  {
   "cell_type": "code",
   "execution_count": 12,
   "id": "1c7ac657-3c3b-4795-829a-820ba646f6b0",
   "metadata": {},
   "outputs": [
    {
     "name": "stdin",
     "output_type": "stream",
     "text": [
      " 3\n"
     ]
    },
    {
     "name": "stdout",
     "output_type": "stream",
     "text": [
      "I can't vote\n"
     ]
    }
   ],
   "source": [
    "age = int(input())\n",
    "\n",
    "if age >= 18:\n",
    "    print(\"I can vote\")\n",
    "elif age < 18:\n",
    "    print(\"I can't vote\")\n",
    "else:\n",
    "    print(\"Invalid input\")"
   ]
  },
  {
   "cell_type": "markdown",
   "id": "04e78094-c21e-4b6e-8f97-05148cab7f44",
   "metadata": {},
   "source": [
    "---\n",
    "Q23. Write a code that displays the sum of all the even numbers from the given list.\n",
    "```\n",
    "numbers = [12, 75, 150, 180, 145, 525, 50]\n",
    "```"
   ]
  },
  {
   "cell_type": "code",
   "execution_count": 13,
   "id": "bc254708-add1-4da4-bf56-1fd300ad3c99",
   "metadata": {},
   "outputs": [
    {
     "name": "stdout",
     "output_type": "stream",
     "text": [
      "12\n",
      "150\n",
      "180\n",
      "50\n",
      "392\n"
     ]
    }
   ],
   "source": [
    "numbers = [12, 75, 150, 180, 145, 525, 50]\n",
    "\n",
    "sum = 0\n",
    "\n",
    "for i in numbers:\n",
    "    if i % 2 == 0:\n",
    "        print(i)\n",
    "        sum += i\n",
    "\n",
    "print(sum)"
   ]
  },
  {
   "cell_type": "markdown",
   "id": "bfac2924-c59f-4b5a-b5de-28ca6de5c7cb",
   "metadata": {},
   "source": [
    "---\n",
    "Q24. Write a code to take 3 numbers as an input from the user and display the greatest no as output.\n"
   ]
  },
  {
   "cell_type": "code",
   "execution_count": 1,
   "id": "06fda423-a269-4994-bcf9-86cba62fb1a7",
   "metadata": {},
   "outputs": [
    {
     "name": "stdin",
     "output_type": "stream",
     "text": [
      "Enter 3 Numbers Seprated by Comma:  8,5,3\n"
     ]
    },
    {
     "name": "stdout",
     "output_type": "stream",
     "text": [
      "8 is Greatest\n"
     ]
    }
   ],
   "source": [
    "x, y, z = input(\"Enter 3 Numbers Seprated by Comma: \").split(\",\")\n",
    "if int(x) > int(y) and int(x) > int(z):\n",
    "  print(f\"{x} is Greatest\")\n",
    "elif int(y) > int(z):\n",
    "  print(f\"{y} is Greatest\")\n",
    "else:\n",
    "  print(f\"{z} is Greatest\")"
   ]
  },
  {
   "cell_type": "markdown",
   "id": "1e2b9540-0be1-44a0-8181-9e9cc676cfd5",
   "metadata": {},
   "source": [
    "---\n",
    "Q25. Write a program to display only those numbers from a list that satisfy the following conditions\n",
    "\n",
    "- The number must be divisible by five\n",
    "\n",
    "- If the number is greater than 150, then skip it and move to the next number\n",
    "\n",
    "- If the number is greater than 500, then stop the loop\n",
    "```\n",
    "numbers = [12, 75, 150, 180, 145, 525, 50]\n",
    "```"
   ]
  },
  {
   "cell_type": "code",
   "execution_count": 3,
   "id": "fa5ccacd-9f23-4207-a340-c46cb3fb765e",
   "metadata": {},
   "outputs": [
    {
     "name": "stdout",
     "output_type": "stream",
     "text": [
      "75\n",
      "180\n",
      "145\n",
      "50\n"
     ]
    }
   ],
   "source": [
    "numbers = [12, 75, 150, 180, 145, 525, 50]\n",
    "\n",
    "for i in numbers:\n",
    "    if i != 150 and i <=500 and i % 5 == 0:\n",
    "        print(i)"
   ]
  },
  {
   "cell_type": "markdown",
   "id": "fc4f37c3-c0bb-4b56-83f7-d2802b1f47fe",
   "metadata": {},
   "source": [
    "The End"
   ]
  },
  {
   "cell_type": "markdown",
   "id": "7a2e52ce-0e37-46a5-ad80-c5f00dc49d4e",
   "metadata": {},
   "source": [
    "---\n"
   ]
  }
 ],
 "metadata": {
  "kernelspec": {
   "display_name": "Python 3 (ipykernel)",
   "language": "python",
   "name": "python3"
  },
  "language_info": {
   "codemirror_mode": {
    "name": "ipython",
    "version": 3
   },
   "file_extension": ".py",
   "mimetype": "text/x-python",
   "name": "python",
   "nbconvert_exporter": "python",
   "pygments_lexer": "ipython3",
   "version": "3.9.12"
  }
 },
 "nbformat": 4,
 "nbformat_minor": 5
}
