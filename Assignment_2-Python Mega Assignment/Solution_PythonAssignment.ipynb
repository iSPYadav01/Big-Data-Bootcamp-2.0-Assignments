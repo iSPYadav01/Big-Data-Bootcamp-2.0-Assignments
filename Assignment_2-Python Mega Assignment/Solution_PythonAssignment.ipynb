{
 "cells": [
  {
   "cell_type": "markdown",
   "id": "e5321134-1db5-4806-9a04-cb2977e3391d",
   "metadata": {},
   "source": [
    "## Assignment-2\n",
    "##### Python Mega Assignment\n",
    "##### [PythonAssignment.md](https://github.com/vishalsingh17/PythonBigDataQuestions/blob/main/PythonAssignment.m)\n",
    "\n",
    "#### [iNeuron-Bigdata-BootCamp 2.0]((https://github.com/iSPYadav01/Big-Data-Bootcamp-2.0-Assignments))\n",
    "* Name-Surendra Kumar Yadav\n",
    "---\n",
    "---"
   ]
  },
  {
   "cell_type": "markdown",
   "id": "629544f3-e768-4f50-b2c2-e4972cfe01dc",
   "metadata": {},
   "source": [
    "Q1. Why do we call Python as a general purpose and high-level programming language?"
   ]
  },
  {
   "cell_type": "raw",
   "id": "d2bd8146-1691-4239-b417-5631a45fd54a",
   "metadata": {},
   "source": [
    "Because they are not written in machine-readable language, Python programs need to be processed before machines can run them. Python is an interpreted language. This means that every time a program is run, its interpreter runs through the code and translates it into machine-readable byte code."
   ]
  },
  {
   "cell_type": "markdown",
   "id": "66312b87-117d-45da-9de9-960b760043e4",
   "metadata": {},
   "source": [
    "---\n",
    "Q2. Why is Python called a dynamically typed language?"
   ]
  },
  {
   "cell_type": "raw",
   "id": "d3dc374d-f303-4809-8450-2b8552f959d1",
   "metadata": {},
   "source": [
    "Python is both a strongly typed and a dynamically typed language. Strong typing means that variables do have a type and that the type matters when performing operations on a variable. Dynamic typing means that the type of the variable is determined only during runtime. Dynamically-typed languages are those (like Python, JavaScript) where the interpreter assigns variables a type at runtime based on the variable's value at the time."
   ]
  },
  {
   "cell_type": "markdown",
   "id": "5dac328d-b706-431a-bca6-c40d29fb1841",
   "metadata": {},
   "source": [
    "---\n",
    "Q3. List some pros and cons of Python programming language?"
   ]
  },
  {
   "cell_type": "raw",
   "id": "cf079935-45ec-4704-ab09-9734be6e2913",
   "metadata": {},
   "source": [
    "Pros:\n",
    "    Its Simple, easy to use.\n",
    "    Its Free\n",
    "    Object Oriented\n",
    "    Contains lot of libraries supports ML, DL, etc\n",
    "    Widely applicable\n",
    "    \n",
    "Cons:\n",
    "    Runtime error\n",
    "    Poor memory management.\n",
    "    Slow\n",
    "    Not complete support for mobile app development"
   ]
  },
  {
   "cell_type": "markdown",
   "id": "d3eff0da-c849-4443-ab33-214957c2353a",
   "metadata": {},
   "source": [
    "---\n",
    "Q4. In what all domains can we use Python?"
   ]
  },
  {
   "cell_type": "raw",
   "id": "2864c906-d3ce-43ee-8d04-ea9cc9f0e796",
   "metadata": {},
   "source": [
    "Data Science, Machine Learning, Deep Learning, AI, Data Engineering Web Application Game Development"
   ]
  },
  {
   "cell_type": "markdown",
   "id": "58a25418-ac0a-46ab-b25c-54c4dd88a603",
   "metadata": {},
   "source": [
    "---\n",
    "Q5. What are variable and how can we declare them?"
   ]
  },
  {
   "cell_type": "raw",
   "id": "3f9b15aa-2394-4fd1-8600-832156c1a497",
   "metadata": {},
   "source": [
    "Variables are a storage object which holds the data which can be used in the program\n",
    "\n",
    "a = 10"
   ]
  },
  {
   "cell_type": "markdown",
   "id": "82100ddb-7e42-4192-83b3-83211e7cb774",
   "metadata": {},
   "source": [
    "---\n",
    "Q6. How can we take an input from the user in Python?"
   ]
  },
  {
   "cell_type": "raw",
   "id": "b44310aa-bb24-457d-8475-eec59353559e",
   "metadata": {},
   "source": [
    "Using input() function user can read the input in runtime."
   ]
  },
  {
   "cell_type": "markdown",
   "id": "af8d9e5e-69b3-4031-a7f2-08a33bf6c777",
   "metadata": {},
   "source": [
    "---\n",
    "Q7. What is the default datatype of the value that has been taken as an input using input() function?"
   ]
  },
  {
   "cell_type": "raw",
   "id": "d1b83460-5d40-42d1-955f-47ab22b6f1d0",
   "metadata": {},
   "source": [
    "Default datatype of input() is string."
   ]
  },
  {
   "cell_type": "markdown",
   "id": "50b69dc8-8aec-49fc-bc21-2b67378b4cb8",
   "metadata": {},
   "source": [
    "---\n",
    "Q8. What is type casting?"
   ]
  },
  {
   "cell_type": "raw",
   "id": "2e5ba359-308e-4cdb-a501-8cedfbdfc459",
   "metadata": {},
   "source": [
    "type casting is converting a variable from one datatype to another datatype."
   ]
  },
  {
   "cell_type": "markdown",
   "id": "75e5577f-4634-4d97-8ae5-030bdf38882f",
   "metadata": {},
   "source": [
    "---\n",
    "Q9. Can we take more than one input from the user using single input() function? If yes, how? If no, why?"
   ]
  },
  {
   "cell_type": "raw",
   "id": "f7c6a551-09c3-424b-b355-493ab1489d5d",
   "metadata": {},
   "source": [
    "We can get multiple input with delimeter and use split() function to use to store in different variables.\n",
    "\n",
    "x,y = input().split()"
   ]
  },
  {
   "cell_type": "markdown",
   "id": "b6e1f36a-a81a-4764-9328-a77cd23cac27",
   "metadata": {},
   "source": [
    "---\n",
    "Q10. What are keywords?"
   ]
  },
  {
   "cell_type": "raw",
   "id": "39ed6df2-da06-42b2-850a-b64568a4094a",
   "metadata": {},
   "source": [
    "Keywords are system defined objects which cant be use by the user as variable name and function name."
   ]
  },
  {
   "cell_type": "markdown",
   "id": "6e8807a4-3ce3-460e-b6c1-1fda75175060",
   "metadata": {},
   "source": [
    "---\n",
    "Q11. Can we use keywords as a variable? Support your answer with reason."
   ]
  },
  {
   "cell_type": "raw",
   "id": "4653e0e7-bca6-40d6-8530-0fb204c091ed",
   "metadata": {},
   "source": [
    "No we cant. Keywords are system defined objects which cant be use by the user as variable name and function name."
   ]
  },
  {
   "cell_type": "markdown",
   "id": "a3f916a8-4064-4863-a594-4f3ad92244c2",
   "metadata": {},
   "source": [
    "---\n",
    "Q12. What is indentation? What's the use of indentaion in Python?"
   ]
  },
  {
   "cell_type": "raw",
   "id": "46785c96-7a10-4027-a07e-5734a68803d3",
   "metadata": {},
   "source": [
    "Indentation refers to the spaces at the beginning of a code line. Where in other programming languages the indentation in code is for readability only, the indentation in Python is very important. Python uses indentation to indicate a block of code."
   ]
  },
  {
   "cell_type": "markdown",
   "id": "d6bcdd06-075d-4cf1-a1b6-cb730fd4bb73",
   "metadata": {},
   "source": [
    "---\n",
    "Q13. How can we throw some output in Python?"
   ]
  },
  {
   "cell_type": "raw",
   "id": "461c07c1-bf53-46a2-a8c3-be1d3e2df4a3",
   "metadata": {},
   "source": [
    "Using print() statement."
   ]
  },
  {
   "cell_type": "markdown",
   "id": "fcceec69-65fc-4a4f-8987-88b939a397ce",
   "metadata": {},
   "source": [
    "---\n",
    "Q14. What are operators in Python?"
   ]
  },
  {
   "cell_type": "raw",
   "id": "dc325720-166d-45ee-9575-6ff2c9b4500b",
   "metadata": {},
   "source": [
    "Operators are special charectors which do one specific operation on the given variables."
   ]
  },
  {
   "cell_type": "markdown",
   "id": "56d5cf2f-c3a2-43e0-aa35-395abb694c07",
   "metadata": {},
   "source": [
    "---\n",
    "Q15. What is difference between / and // operators?"
   ]
  },
  {
   "cell_type": "raw",
   "id": "a32210a9-5c6b-4cfd-b892-5d7cd1a3ee31",
   "metadata": {},
   "source": [
    "// - Command the code which exclude from python interpretter.\n",
    "\n",
    "/ - division operator returns decimal output."
   ]
  },
  {
   "cell_type": "markdown",
   "id": "4178d9a4-de48-4d2e-98c4-3d9c242d6f5e",
   "metadata": {},
   "source": [
    "---\n",
    "Q16. Write a code that gives following as an output.\n",
    "\n",
    "```\n",
    ": iNeuroniNeuroniNeuroniNeuron\n",
    "```"
   ]
  },
  {
   "cell_type": "code",
   "execution_count": 6,
   "id": "939436a0-fe18-4d4f-b7c5-34cbb0417c17",
   "metadata": {},
   "outputs": [
    {
     "name": "stdout",
     "output_type": "stream",
     "text": [
      "iNeuroniNeuroniNeuroniNeuron\n"
     ]
    }
   ],
   "source": [
    "print(4 * 'iNeuron')"
   ]
  },
  {
   "cell_type": "markdown",
   "id": "b28b5efb-a0d3-4708-b76d-c263c5d90abb",
   "metadata": {},
   "source": [
    "---\n",
    "Q17. Write a code to take a number as an input from the user and check if the number is odd or even."
   ]
  },
  {
   "cell_type": "code",
   "execution_count": 9,
   "id": "56d1fff1-85b6-4dfe-b761-e473e83c310a",
   "metadata": {},
   "outputs": [
    {
     "name": "stdin",
     "output_type": "stream",
     "text": [
      " 5\n"
     ]
    },
    {
     "name": "stdout",
     "output_type": "stream",
     "text": [
      "Odd\n"
     ]
    }
   ],
   "source": [
    "number = int(input())\n",
    "\n",
    "if number % 2 == 0:\n",
    "    print(\"Even\")\n",
    "else:\n",
    "    print(\"Odd\")"
   ]
  },
  {
   "cell_type": "markdown",
   "id": "957d3ed6-0ce8-49db-a94b-6e3646a8ccfe",
   "metadata": {},
   "source": [
    "---\n",
    "Q18. What are boolean operator?"
   ]
  },
  {
   "cell_type": "raw",
   "id": "f9176d12-8918-47e0-8de9-5c53c572a544",
   "metadata": {},
   "source": [
    "The logical operators and, or and not are also referred to as boolean operators. While and as well as or operator needs two operands, which may evaluate to true or false, not operator needs one operand evaluating to true or false. Boolean and operator returns true if both operands return true"
   ]
  },
  {
   "cell_type": "markdown",
   "id": "1340ea72-a627-43bd-8c6f-e664e6e49051",
   "metadata": {},
   "source": [
    "---\n",
    "Q19. What will the output of the following?\n",
    "```\n",
    "1 or 0\n",
    "\n",
    "0 and 0\n",
    "\n",
    "True and False and True\n",
    "\n",
    "1 or 0 or 0\n",
    "```"
   ]
  },
  {
   "cell_type": "raw",
   "id": "7eee80e5-d592-4ab1-8d6e-0a77a5683c74",
   "metadata": {},
   "source": [
    "1 or 0 -> 1\n",
    "0 and 0 -> 0\n",
    "True and False and True -> False\n",
    "1 or 0 or 0 -> 1"
   ]
  },
  {
   "cell_type": "markdown",
   "id": "593470c7-1d66-4e72-89b4-a1cdb918e39d",
   "metadata": {},
   "source": [
    "---\n",
    "Q20. What are conditional statements in Python?"
   ]
  },
  {
   "cell_type": "raw",
   "id": "39e1a9e8-3f10-4802-9f41-73c11fa7ddac",
   "metadata": {},
   "source": [
    "Conditional statements in python are If and nested statements which used to check the multiple condition on a sequence manner and return the output."
   ]
  },
  {
   "cell_type": "markdown",
   "id": "47c8f529-1ad1-4df8-a559-b24460685cf4",
   "metadata": {},
   "source": [
    "---\n",
    "Q21. What is use of 'if', 'elif' and 'else' keywords?"
   ]
  },
  {
   "cell_type": "raw",
   "id": "0dda7ea6-b363-47a6-a229-175fe2cbcefa",
   "metadata": {},
   "source": [
    "if --> to check the first statement is true or false elif --> to check after first statement whether the condision(s) is true or false else --> to return/ print a statement or value when all the if and elif is failed."
   ]
  },
  {
   "cell_type": "markdown",
   "id": "8fbdeba2-260a-4e25-9a41-c50c93c29477",
   "metadata": {},
   "source": [
    "---\n",
    "Q22. Write a code to take the age of person as an input and if age >= 18 display \"I can vote\". If age is < 18 display \"I can't vote\"."
   ]
  },
  {
   "cell_type": "code",
   "execution_count": 12,
   "id": "1c7ac657-3c3b-4795-829a-820ba646f6b0",
   "metadata": {},
   "outputs": [
    {
     "name": "stdin",
     "output_type": "stream",
     "text": [
      " 3\n"
     ]
    },
    {
     "name": "stdout",
     "output_type": "stream",
     "text": [
      "I can't vote\n"
     ]
    }
   ],
   "source": [
    "age = int(input())\n",
    "\n",
    "if age >= 18:\n",
    "    print(\"I can vote\")\n",
    "elif age < 18:\n",
    "    print(\"I can't vote\")\n",
    "else:\n",
    "    print(\"Invalid input\")"
   ]
  },
  {
   "cell_type": "markdown",
   "id": "04e78094-c21e-4b6e-8f97-05148cab7f44",
   "metadata": {},
   "source": [
    "---\n",
    "Q23. Write a code that displays the sum of all the even numbers from the given list.\n",
    "```\n",
    "numbers = [12, 75, 150, 180, 145, 525, 50]\n",
    "```"
   ]
  },
  {
   "cell_type": "code",
   "execution_count": 13,
   "id": "bc254708-add1-4da4-bf56-1fd300ad3c99",
   "metadata": {},
   "outputs": [
    {
     "name": "stdout",
     "output_type": "stream",
     "text": [
      "12\n",
      "150\n",
      "180\n",
      "50\n",
      "392\n"
     ]
    }
   ],
   "source": [
    "numbers = [12, 75, 150, 180, 145, 525, 50]\n",
    "\n",
    "sum = 0\n",
    "\n",
    "for i in numbers:\n",
    "    if i % 2 == 0:\n",
    "        print(i)\n",
    "        sum += i\n",
    "\n",
    "print(sum)"
   ]
  },
  {
   "cell_type": "markdown",
   "id": "bfac2924-c59f-4b5a-b5de-28ca6de5c7cb",
   "metadata": {},
   "source": [
    "---\n",
    "Q24. Write a code to take 3 numbers as an input from the user and display the greatest no as output.\n"
   ]
  },
  {
   "cell_type": "code",
   "execution_count": 1,
   "id": "06fda423-a269-4994-bcf9-86cba62fb1a7",
   "metadata": {},
   "outputs": [
    {
     "name": "stdin",
     "output_type": "stream",
     "text": [
      "Enter 3 Numbers Seprated by Comma:  8,5,3\n"
     ]
    },
    {
     "name": "stdout",
     "output_type": "stream",
     "text": [
      "8 is Greatest\n"
     ]
    }
   ],
   "source": [
    "x, y, z = input(\"Enter 3 Numbers Seprated by Comma: \").split(\",\")\n",
    "if int(x) > int(y) and int(x) > int(z):\n",
    "  print(f\"{x} is Greatest\")\n",
    "elif int(y) > int(z):\n",
    "  print(f\"{y} is Greatest\")\n",
    "else:\n",
    "  print(f\"{z} is Greatest\")"
   ]
  },
  {
   "cell_type": "markdown",
   "id": "1e2b9540-0be1-44a0-8181-9e9cc676cfd5",
   "metadata": {},
   "source": [
    "---\n",
    "Q25. Write a program to display only those numbers from a list that satisfy the following conditions\n",
    "\n",
    "- The number must be divisible by five\n",
    "\n",
    "- If the number is greater than 150, then skip it and move to the next number\n",
    "\n",
    "- If the number is greater than 500, then stop the loop\n",
    "```\n",
    "numbers = [12, 75, 150, 180, 145, 525, 50]\n",
    "```"
   ]
  },
  {
   "cell_type": "code",
   "execution_count": 3,
   "id": "fa5ccacd-9f23-4207-a340-c46cb3fb765e",
   "metadata": {},
   "outputs": [
    {
     "name": "stdout",
     "output_type": "stream",
     "text": [
      "75\n",
      "180\n",
      "145\n",
      "50\n"
     ]
    }
   ],
   "source": [
    "numbers = [12, 75, 150, 180, 145, 525, 50]\n",
    "\n",
    "for i in numbers:\n",
    "    if i != 150 and i <=500 and i % 5 == 0:\n",
    "        print(i)"
   ]
  },
  {
   "cell_type": "markdown",
   "id": "7a2e52ce-0e37-46a5-ad80-c5f00dc49d4e",
   "metadata": {},
   "source": [
    "---\n",
    "Q26. What is a string? How can we declare string in Python?\n"
   ]
  },
  {
   "cell_type": "raw",
   "id": "a27b1936-6790-4503-9421-ecd0ba89f7ad",
   "metadata": {},
   "source": [
    "String is a data type in python to store a array a of alpha numeric elements in a variable. a = 'string data type' b = \"python\""
   ]
  },
  {
   "cell_type": "markdown",
   "id": "eebbe8d4-df3e-40f0-b384-34d57e71c9c5",
   "metadata": {},
   "source": [
    "---\n",
    "Q27. How can we access the string using its index?"
   ]
  },
  {
   "cell_type": "raw",
   "id": "aa49424e-abc3-4829-952b-4c178edfcfaf",
   "metadata": {},
   "source": [
    "We can access the string index by using square bracket and specifying the the position like below.\n",
    "\n",
    "python = \"python:\n",
    "print(python[2]) -> returns t"
   ]
  },
  {
   "cell_type": "markdown",
   "id": "dcbfa454-8f6f-4648-b49d-a9c1e993cad5",
   "metadata": {},
   "source": [
    "---\n",
    "Q28. Write a code to get the desired output of the following"
   ]
  },
  {
   "cell_type": "raw",
   "id": "269f7019-d014-4421-961f-c9418e2717e2",
   "metadata": {},
   "source": [
    "    string = \"Big Data iNeuron\"\n",
    "    desired_output = \"iNeuron\"\n",
    "\n",
    "\n",
    "    value  = \"Big Data iNeuron\"\n",
    "    print(value.split()[-1])"
   ]
  },
  {
   "cell_type": "markdown",
   "id": "d48c5123-b68c-4abb-96f1-e709f4e50c47",
   "metadata": {},
   "source": [
    "---\n",
    "Q29. Write a code to get the desired output of the following"
   ]
  },
  {
   "cell_type": "code",
   "execution_count": 10,
   "id": "7834f33d-9630-400b-b8db-54c75c04905f",
   "metadata": {},
   "outputs": [
    {
     "name": "stdout",
     "output_type": "stream",
     "text": [
      "norueNi\n"
     ]
    }
   ],
   "source": [
    "string = \"Big Data iNeuron\"\n",
    "desired_output = \"norueNi\"\n",
    "\n",
    "value  = \"Big Data iNeuron\"\n",
    "print(value.split()[-1][::-1])"
   ]
  },
  {
   "cell_type": "markdown",
   "id": "fabd0113-fc4d-464d-b6d4-d4aa2f386780",
   "metadata": {},
   "source": [
    "---\n",
    "Q30. Reverse the string given in the above question."
   ]
  },
  {
   "cell_type": "code",
   "execution_count": 12,
   "id": "38779fb5-8c11-4ab8-8643-1be573de15a6",
   "metadata": {},
   "outputs": [
    {
     "name": "stdout",
     "output_type": "stream",
     "text": [
      "norueNi ataD giB\n",
      "['iNeuron', 'Data', 'Big']\n"
     ]
    }
   ],
   "source": [
    "print(value[::-1])\n",
    "print(value.split()[::-1])"
   ]
  },
  {
   "cell_type": "markdown",
   "id": "f39acbc9-8627-46e0-915b-ff0504f63070",
   "metadata": {},
   "source": [
    "---\n",
    "Q31. How can you delete entire string at once?"
   ]
  },
  {
   "cell_type": "raw",
   "id": "2be03d4f-4111-4ea2-b34b-9d0e89343b14",
   "metadata": {},
   "source": [
    "Using 'del' command we can delete the entire string in python. Generally it will drop the variable which holds the string value."
   ]
  },
  {
   "cell_type": "markdown",
   "id": "4ed6fab8-ff6f-4931-9737-7cbf0946d803",
   "metadata": {},
   "source": [
    "---\n",
    "Q32. What is escape sequence?"
   ]
  },
  {
   "cell_type": "raw",
   "id": "a8c71b79-3225-4cd9-a065-9746ddf4f1ae",
   "metadata": {},
   "source": [
    "Escape sequence is special key which doesn't print anything however it helps to align the output based on the user requirement. \n",
    "Ex: \\n - new line \\b - backspace \\t - tab"
   ]
  },
  {
   "cell_type": "markdown",
   "id": "fc24654c-b23d-4ca2-a04c-a83bb8b44109",
   "metadata": {},
   "source": [
    "---\n",
    "Q33. How can you print the below string?\n",
    "\n",
    "'iNeuron's Big Data Course'"
   ]
  },
  {
   "cell_type": "code",
   "execution_count": 6,
   "id": "03b1d4f8-0332-43f2-a9d6-876298464313",
   "metadata": {},
   "outputs": [
    {
     "name": "stdout",
     "output_type": "stream",
     "text": [
      "'iNeuron's Big Data Course'\n"
     ]
    }
   ],
   "source": [
    "print(\"\\'iNeuron's Big Data Course\\'\")"
   ]
  },
  {
   "cell_type": "markdown",
   "id": "28a8344a-357d-4eb7-9f25-532afb061aca",
   "metadata": {},
   "source": [
    "---\n",
    "Q34. What is a list in Python?"
   ]
  },
  {
   "cell_type": "raw",
   "id": "b531d77f-a2d2-4131-89ae-356720109968",
   "metadata": {},
   "source": [
    "List is one of the key data structure in python which hold any type of data in it. List is a collection which is ordered and changeable. Allows duplicate members."
   ]
  },
  {
   "cell_type": "markdown",
   "id": "aba843ae-afa7-4ab2-b450-c15b37a2f340",
   "metadata": {},
   "source": [
    "---\n",
    "Q35. How can you create a list in Python?"
   ]
  },
  {
   "cell_type": "raw",
   "id": "fe02274e-c5ba-442c-a6cf-3f59a8ae884a",
   "metadata": {},
   "source": [
    "List can be created in python using []. lst = [] --> empty list lst = [1,2,3] --> numeric list lst = ['a', 'bc', 'd'] --> string list lst = ['abc', 'xyz', 1] --> alphanumeric list"
   ]
  },
  {
   "cell_type": "markdown",
   "id": "216d4cfc-345c-49c7-a256-b51a43432f51",
   "metadata": {},
   "source": [
    "---\n",
    "Q36. How can we access the elements in a list?"
   ]
  },
  {
   "cell_type": "raw",
   "id": "e359d225-4fdf-4bff-9bd0-bc2376412ae0",
   "metadata": {},
   "source": [
    "we can access the list using index."
   ]
  },
  {
   "cell_type": "code",
   "execution_count": 10,
   "id": "5e3fffcc-4146-4945-9687-fcbd3bc4241e",
   "metadata": {},
   "outputs": [
    {
     "name": "stdout",
     "output_type": "stream",
     "text": [
      "2\n",
      "[2]\n"
     ]
    }
   ],
   "source": [
    "lst = [1,2,3,4,5]\n",
    "print(lst[1])\n",
    "print(lst[1:2])"
   ]
  },
  {
   "cell_type": "markdown",
   "id": "46a70f3d-fd19-4712-9447-326a6fd64c50",
   "metadata": {},
   "source": [
    "---\n",
    "Q37. Write a code to access the word \"iNeuron\" from the given list.\n"
   ]
  },
  {
   "cell_type": "code",
   "execution_count": 11,
   "id": "640c111a-6fae-4ade-a2ae-25bac942bb3c",
   "metadata": {},
   "outputs": [
    {
     "name": "stdout",
     "output_type": "stream",
     "text": [
      "iNeuron\n"
     ]
    }
   ],
   "source": [
    "lst = [1,2,3,\"Hi\",[45,54, \"iNeuron\"], \"Big Data\"]\n",
    "print(lst[4][2])"
   ]
  },
  {
   "cell_type": "markdown",
   "id": "e3a471a9-2bc2-4dcf-bfc5-b13310c55855",
   "metadata": {},
   "source": [
    "---\n",
    "Q38. Take a list as an input from the user and find the length of the list."
   ]
  },
  {
   "cell_type": "code",
   "execution_count": 17,
   "id": "d8780d4d-6926-4adb-8045-84167fc638a9",
   "metadata": {},
   "outputs": [
    {
     "name": "stdout",
     "output_type": "stream",
     "text": [
      "Enter the list of numbers separated by ','\n"
     ]
    },
    {
     "name": "stdin",
     "output_type": "stream",
     "text": [
      " 0\n"
     ]
    },
    {
     "name": "stdout",
     "output_type": "stream",
     "text": [
      "1\n"
     ]
    }
   ],
   "source": [
    "print(\"Enter the list of numbers separated by ','\")\n",
    "lst = input().split(',')    \n",
    "print(len(lst))"
   ]
  },
  {
   "cell_type": "markdown",
   "id": "499cb4c0-ab0e-4382-8c1a-de7e7b2a9ae4",
   "metadata": {},
   "source": [
    "---\n",
    "Q39. Add the word \"Big\" in the 3rd index of the given list."
   ]
  },
  {
   "cell_type": "code",
   "execution_count": 19,
   "id": "5d9f97c0-97e4-446d-bcea-84e18f5737ac",
   "metadata": {},
   "outputs": [
    {
     "name": "stdout",
     "output_type": "stream",
     "text": [
      "['Welcome', 'to', 'Big', 'Data', 'course']\n"
     ]
    }
   ],
   "source": [
    "lst = [\"Welcome\", \"to\", \"Data\", \"course\"]\n",
    "lst.insert(2,'Big')\n",
    "print(lst)"
   ]
  },
  {
   "cell_type": "markdown",
   "id": "52693480-c11e-4826-a0e7-a532ad365799",
   "metadata": {},
   "source": [
    "---\n",
    "Q40. What is a tuple? How is it different from list?"
   ]
  },
  {
   "cell_type": "raw",
   "id": "4a2d7bfa-b513-4e67-8925-6037d0671c16",
   "metadata": {},
   "source": [
    "Tuple is a collection of objects separated by commas. Same like list but tuples are immutable. Tuple is denoted by () Tuple consumes less memory compare to list. Insertion and deletion is not allowed in Tuple, allowed in List"
   ]
  },
  {
   "cell_type": "markdown",
   "id": "0ac5dbc9-9031-4de6-9043-6220bd3ebb7b",
   "metadata": {},
   "source": [
    "---\n",
    "Q41. How can you create a tuple in Python?"
   ]
  },
  {
   "cell_type": "code",
   "execution_count": 23,
   "id": "35df24a4-23d8-4930-8a03-65d49df4991f",
   "metadata": {},
   "outputs": [
    {
     "name": "stdout",
     "output_type": "stream",
     "text": [
      "(1, 2, 3, 5)\n"
     ]
    }
   ],
   "source": [
    "tuple = (1,2,3,5)\n",
    "print(tuple)"
   ]
  },
  {
   "cell_type": "markdown",
   "id": "4efcf6a6-dff2-45c1-80ad-1a183895cc2a",
   "metadata": {},
   "source": [
    "---\n",
    "Q42. Create a tuple and try to add your name in the tuple. Are you able to do it? Support your answer with reason."
   ]
  },
  {
   "cell_type": "code",
   "execution_count": 26,
   "id": "38e78324-3aaf-491f-b1da-53196f31890c",
   "metadata": {},
   "outputs": [
    {
     "ename": "TypeError",
     "evalue": "'tuple' object does not support item assignment",
     "output_type": "error",
     "traceback": [
      "\u001b[1;31m---------------------------------------------------------------------------\u001b[0m",
      "\u001b[1;31mTypeError\u001b[0m                                 Traceback (most recent call last)",
      "Input \u001b[1;32mIn [26]\u001b[0m, in \u001b[0;36m<cell line: 2>\u001b[1;34m()\u001b[0m\n\u001b[0;32m      1\u001b[0m name \u001b[38;5;241m=\u001b[39m ()\n\u001b[1;32m----> 2\u001b[0m name[\u001b[38;5;241m0\u001b[39m] \u001b[38;5;241m=\u001b[39m \u001b[38;5;124m'\u001b[39m\u001b[38;5;124mSKY\u001b[39m\u001b[38;5;124m'\u001b[39m\n\u001b[0;32m      3\u001b[0m \u001b[38;5;28mprint\u001b[39m(name)\n",
      "\u001b[1;31mTypeError\u001b[0m: 'tuple' object does not support item assignment"
     ]
    }
   ],
   "source": [
    "name = ()\n",
    "name[0] = 'SKY'\n",
    "print(name)"
   ]
  },
  {
   "cell_type": "raw",
   "id": "f42cac22-41ae-4b3e-b50a-5776478f88a7",
   "metadata": {},
   "source": [
    "It throws an error since the tuple is immutable."
   ]
  },
  {
   "cell_type": "markdown",
   "id": "39b90d59-12fa-4b12-97e2-53f0f76be7bc",
   "metadata": {},
   "source": [
    "---\n",
    "Q43. Can two tuple be appended. If yes, write a code for it. If not, why?"
   ]
  },
  {
   "cell_type": "raw",
   "id": "ae1d329a-a189-4f2f-837a-cfd551c71d22",
   "metadata": {},
   "source": [
    "append method is not available in tuple. so we can concatenate two tuples and extend it."
   ]
  },
  {
   "cell_type": "code",
   "execution_count": 28,
   "id": "60df356a-7a08-41e0-a04b-ecf4fa00e4a2",
   "metadata": {},
   "outputs": [
    {
     "name": "stdout",
     "output_type": "stream",
     "text": [
      "(1, 2, 3, 3, 4, 5)\n"
     ]
    }
   ],
   "source": [
    "number1 = (1,2,3)\n",
    "number2 = (3,4,5)\n",
    "num = number1 + number2\n",
    "print(num)"
   ]
  },
  {
   "cell_type": "markdown",
   "id": "b8929b45-80e1-4f17-ac0c-8af6327bb600",
   "metadata": {},
   "source": [
    "---\n",
    "Q44. Take a tuple as an input and print the count of elements in it.\n"
   ]
  },
  {
   "cell_type": "code",
   "execution_count": 30,
   "id": "ed5adc5a-8fe1-4246-81f9-639128c01b21",
   "metadata": {},
   "outputs": [
    {
     "name": "stdout",
     "output_type": "stream",
     "text": [
      "6\n"
     ]
    }
   ],
   "source": [
    "print(len(num))"
   ]
  },
  {
   "cell_type": "markdown",
   "id": "d6474c62-9986-4447-8eb4-65b4ddc3093c",
   "metadata": {},
   "source": [
    "---\n",
    "Q45. What are sets in Python?"
   ]
  },
  {
   "cell_type": "raw",
   "id": "0ed57e4d-fb8f-4d2d-8d5b-256573a787ed",
   "metadata": {},
   "source": [
    "Sets are collections of unique object in Python. Sets wont have duplicate values Sets are not ordered. Sets wont support indexing and ordering"
   ]
  },
  {
   "cell_type": "markdown",
   "id": "4f8d4cf0-03be-4910-acc2-1a04e7b819d0",
   "metadata": {},
   "source": [
    "---\n",
    "Q46. How can you create a set?"
   ]
  },
  {
   "cell_type": "raw",
   "id": "b72219a6-179e-4f94-8da6-cf0e177e3d31",
   "metadata": {},
   "source": [
    "We can create set using curly brackets {}. Keep in mind empty {} will result in dictionary hence there must be some value in the brackets."
   ]
  },
  {
   "cell_type": "code",
   "execution_count": 42,
   "id": "e67c72d6-7ea1-4374-920d-b87c8ed883b3",
   "metadata": {},
   "outputs": [
    {
     "name": "stdout",
     "output_type": "stream",
     "text": [
      "{1, 2, 3, 5}\n"
     ]
    }
   ],
   "source": [
    "set_var = {1,2,3,5,5}\n",
    "print(set_var)"
   ]
  },
  {
   "cell_type": "code",
   "execution_count": 44,
   "id": "d2cf4789-2b61-4614-9ef5-de1421072d73",
   "metadata": {},
   "outputs": [],
   "source": [
    "my_list = [1,2,3,4,5,6,7,8,9,9]"
   ]
  },
  {
   "cell_type": "code",
   "execution_count": 45,
   "id": "1eff93f0-41f7-4972-8ada-0e05e46f6a49",
   "metadata": {},
   "outputs": [
    {
     "name": "stdout",
     "output_type": "stream",
     "text": [
      "{1, 2, 3, 4, 5, 6, 7, 8, 9}\n"
     ]
    }
   ],
   "source": [
    "my_set = set(my_list) \n",
    "print(my_set)"
   ]
  },
  {
   "cell_type": "markdown",
   "id": "51fe113c-f2d4-497f-a353-98b54a0afe1e",
   "metadata": {},
   "source": [
    "---\n",
    "Q47. Create a set and add \"iNeuron\" in your set."
   ]
  },
  {
   "cell_type": "code",
   "execution_count": 49,
   "id": "7cc6da28-d713-4e7c-894a-4eb999719de0",
   "metadata": {},
   "outputs": [
    {
     "name": "stdout",
     "output_type": "stream",
     "text": [
      "{'iNeuron'}\n"
     ]
    }
   ],
   "source": [
    "my_set = set({}) \n",
    "my_set.add(\"iNeuron\") \n",
    "print(my_set)"
   ]
  },
  {
   "cell_type": "markdown",
   "id": "762b1ab9-51ec-47ce-b7d6-83f8a755cc78",
   "metadata": {},
   "source": [
    "---\n",
    "Q48. Try to add multiple values using add() function."
   ]
  },
  {
   "cell_type": "code",
   "execution_count": 50,
   "id": "429b94ff-5a04-4875-b7eb-9461c2695024",
   "metadata": {},
   "outputs": [
    {
     "name": "stdout",
     "output_type": "stream",
     "text": [
      "{1, 2, 'iNeuron'}\n"
     ]
    }
   ],
   "source": [
    "my_set.update([1,2])\n",
    "print(my_set)"
   ]
  },
  {
   "cell_type": "markdown",
   "id": "6844fc1a-f90b-4a1c-8628-631d7167fd2f",
   "metadata": {},
   "source": [
    "---\n",
    "Q49. How is update() different from add()?"
   ]
  },
  {
   "cell_type": "raw",
   "id": "f2ae61d8-f78d-401f-86c2-20209b125533",
   "metadata": {},
   "source": [
    "We can add more than one element in a single go using update(), but using add() it's not possible."
   ]
  },
  {
   "cell_type": "raw",
   "id": "2b44ddc7-4135-49ca-84a0-f6f774acb919",
   "metadata": {},
   "source": [
    "add() - helps to add a single item to the set. it will add anywhere in the set. update() - helps to add multiple items to the set. it will add the sequential order. list, tuple, sets can be added to the set using update()"
   ]
  },
  {
   "cell_type": "markdown",
   "id": "4cc75b43-f0b3-4b7b-b4de-1dd8a0593ce2",
   "metadata": {},
   "source": [
    "---\n",
    "Q50. What is clear() in sets?"
   ]
  },
  {
   "cell_type": "raw",
   "id": "a5860849-7c58-49d8-800e-edff9b78c65d",
   "metadata": {},
   "source": [
    "To remove all the elements from the set, clear() function is used."
   ]
  },
  {
   "cell_type": "raw",
   "id": "ffe84d77-2d1e-45a5-89b4-fa15bafc6baa",
   "metadata": {},
   "source": [
    "clear() - to clear the elements from the set variable. it makes sets empty but not delete"
   ]
  },
  {
   "cell_type": "markdown",
   "id": "da2c3940-0dce-4187-85db-3c9efa04b658",
   "metadata": {},
   "source": [
    "---\n",
    "Q51. What is frozen set? Q52. How is frozen set different from set?"
   ]
  },
  {
   "cell_type": "raw",
   "id": "483078e8-49c9-4d3f-a55c-b4da62fcdf34",
   "metadata": {},
   "source": [
    "Frozenset is similar to set in Python, except that frozensets are immutable, which implies that once generated, elements from the frozenset cannot be added or removed. This function accepts any iterable object as input and transforms it into an immutable object."
   ]
  },
  {
   "cell_type": "markdown",
   "id": "5bf14866-5d80-4578-ba0d-a8610646167c",
   "metadata": {},
   "source": [
    "---\n",
    "Q53. What is union() in sets? Explain via code."
   ]
  },
  {
   "cell_type": "raw",
   "id": "1ccfedf6-c3d3-4d6f-89fb-31220a087826",
   "metadata": {},
   "source": [
    "union() in Sets combine the two or more different sets() and eliminate the duplicate."
   ]
  },
  {
   "cell_type": "code",
   "execution_count": 57,
   "id": "d5ec6cb5-5214-4794-bf75-ab7d66bb9b24",
   "metadata": {},
   "outputs": [
    {
     "name": "stdout",
     "output_type": "stream",
     "text": [
      "{1, 2, 3, 4, 5, 6, 7}\n"
     ]
    }
   ],
   "source": [
    "set1 = {1,2,3,4,5}\n",
    "set2 = {3,4,5,6,7}\n",
    "new_set = set1.union(set2)\n",
    "print(new_set)"
   ]
  },
  {
   "cell_type": "markdown",
   "id": "8bfe0002-5c9f-4c81-8e26-c96ead2a4c53",
   "metadata": {},
   "source": [
    "---\n",
    "Q54. What is intersection() in sets? Explain via code.\n"
   ]
  },
  {
   "cell_type": "raw",
   "id": "384ae66c-e8e3-474b-bbd8-215414b098a0",
   "metadata": {},
   "source": [
    "intersection() - to return the common elements between the two sets."
   ]
  },
  {
   "cell_type": "code",
   "execution_count": 60,
   "id": "d9d8cec9-ef5e-49b2-9545-98326a8b9831",
   "metadata": {},
   "outputs": [
    {
     "name": "stdout",
     "output_type": "stream",
     "text": [
      "{3, 4, 5}\n"
     ]
    }
   ],
   "source": [
    "new_set = set1.intersection(set2)\n",
    "print(new_set)\n"
   ]
  },
  {
   "cell_type": "markdown",
   "id": "aaa7d04e-d796-4286-b6d6-c7909bb408d2",
   "metadata": {},
   "source": [
    "---\n",
    "Q55. What is dictionary ibn Python?"
   ]
  },
  {
   "cell_type": "raw",
   "id": "a2cf3b6c-794b-4217-8695-df76ec874b10",
   "metadata": {},
   "source": [
    "Dictionary in Python is a collection of keys values, used to store data values like a map, which, unlike other data types which hold only a single value as an element.\n",
    "\n",
    "or\n",
    "\n",
    "Dictionary used to store key values pair object in the variable. Dictionary is ordered, changeable Dictionary does not allow duplicates"
   ]
  },
  {
   "cell_type": "raw",
   "id": "6f6232d0-4a9c-4f22-b829-9325434ec1d0",
   "metadata": {},
   "source": []
  },
  {
   "cell_type": "markdown",
   "id": "88fc3069-c4b1-41d2-8e9d-875a36175eba",
   "metadata": {},
   "source": [
    "---\n",
    "Q56. How is dictionary different from all other data structures.\n"
   ]
  },
  {
   "cell_type": "raw",
   "id": "fca9b717-877f-4ac5-a829-a593009660e3",
   "metadata": {},
   "source": [
    "Dictionary is having key and value pair where as all other data structures have only values in them.\n"
   ]
  },
  {
   "cell_type": "markdown",
   "id": "1ece3de1-0d55-44c5-bc6d-35199a140fce",
   "metadata": {},
   "source": [
    "---\n",
    "Q57. How can we declare a dictionary in Python?"
   ]
  },
  {
   "cell_type": "raw",
   "id": "35033bbb-09d1-4de0-a7af-f18f5115e818",
   "metadata": {},
   "source": [
    "We can create dictionary using curly brackets {}."
   ]
  },
  {
   "cell_type": "raw",
   "id": "f69c2daa-662b-46b5-9a49-f281964772b7",
   "metadata": {},
   "source": [
    "Understanding:-\n",
    "Unlike the other DataTypes, which are capable of holding only a single value in the form of an element, a Dictionary is capable of holding the key:value pair. In a Dictionary, a colon separates all the key-value pairs from each other, while a comma separates all the keys from each other."
   ]
  },
  {
   "cell_type": "markdown",
   "id": "791b160c-7a64-4ea3-b660-9a58a0020247",
   "metadata": {},
   "source": [
    "---\n",
    "Q58. What will the output of the following?\n",
    "```\n",
    "var = {}\n",
    "print(type(var))\n",
    "```"
   ]
  },
  {
   "cell_type": "code",
   "execution_count": 67,
   "id": "e141ec98-586e-4317-a1be-d9cfcc88122a",
   "metadata": {},
   "outputs": [
    {
     "name": "stdout",
     "output_type": "stream",
     "text": [
      "<class 'dict'>\n"
     ]
    }
   ],
   "source": [
    "var = {}\n",
    "print(type(var))"
   ]
  },
  {
   "cell_type": "markdown",
   "id": "ad61f11d-ac79-4b3a-ad94-965febe92213",
   "metadata": {},
   "source": [
    "---\n",
    "Q59. How can we add an element in a dictionary?\n"
   ]
  },
  {
   "cell_type": "code",
   "execution_count": 79,
   "id": "8a2f0aa0-2bf7-41ad-b6a0-b4f811e3bdeb",
   "metadata": {},
   "outputs": [
    {
     "name": "stdout",
     "output_type": "stream",
     "text": [
      "{'math': 90, 'physics': 80, 'chemistry': 88, 'english': 83}\n"
     ]
    }
   ],
   "source": [
    "# Declaring a Dictionary\n",
    "marks={\"math\":90,\"physics\":80,\"chemistry\":88}\n",
    "\n",
    "# Adding a new item to the Dictionary\n",
    "marks[\"english\"]=83\n",
    "\n",
    "# Printing the Dictionary\n",
    "print(marks)"
   ]
  },
  {
   "cell_type": "markdown",
   "id": "3cdf5647-952f-4f37-b26a-45bd6b198601",
   "metadata": {},
   "source": [
    "---\n",
    "Q60. Create a dictionary and access all the values in that dictionary."
   ]
  },
  {
   "cell_type": "code",
   "execution_count": 116,
   "id": "b9b7c3ac-1adb-40fb-b6b1-1d90ce71f526",
   "metadata": {},
   "outputs": [
    {
     "name": "stdout",
     "output_type": "stream",
     "text": [
      "Key is Name and value is S P\n",
      "Key is Age and value is 24\n",
      "Key is Gender and value is Male\n",
      "Key is City and value is BLR\n",
      "Key is Country and value is IN\n",
      "Key is Occupation and value is Aerospace Engineer\n",
      "Key is Company and value is HTS\n"
     ]
    }
   ],
   "source": [
    "myDict = {'Name': 'S P',\n",
    "          'Age': '24',\n",
    "          'Gender': 'Male',\n",
    "          'City': 'BLR',\n",
    "          'Country': 'IN',\n",
    "          'Occupation': 'Aerospace Engineer',\n",
    "          'Company': 'HTS'\n",
    "        }\n",
    "for i,j in myDict.items():\n",
    "    print(f\"Key is {i} and value is {j}\")"
   ]
  },
  {
   "cell_type": "markdown",
   "id": "4ec2f74d-1b16-4724-9bcc-619e389f7895",
   "metadata": {},
   "source": [
    "---\n",
    "Q61. Create a nested dictionary and access all the element in the inner dictionary."
   ]
  },
  {
   "cell_type": "code",
   "execution_count": 117,
   "id": "afbf3774-1e80-4c03-82ee-e1a3c2379b7c",
   "metadata": {},
   "outputs": [
    {
     "name": "stdout",
     "output_type": "stream",
     "text": [
      "Key is f_name and value is SP\n",
      "Key is l_name and value is Yadav\n"
     ]
    }
   ],
   "source": [
    "Dict = {\"Name\": {\"f_name\":\"SP\", \"l_name\":\"Yadav\"}, \"Experience\": 1.5, \"Organisation\":\"HTS\"}\n",
    "for i, j in Dict[\"Name\"].items():\n",
    "  print(f\"Key is {i} and value is {j}\")"
   ]
  },
  {
   "cell_type": "markdown",
   "id": "0178fc62-ea17-4dd8-aec3-cbb6befbcfa4",
   "metadata": {},
   "source": [
    "---\n",
    "Q62. What is the use of get() function?"
   ]
  },
  {
   "cell_type": "raw",
   "id": "956bb7df-369a-45c4-aef9-11196a1a4b26",
   "metadata": {},
   "source": [
    "get() method in python is help to get the value of the key which passed inside get()"
   ]
  },
  {
   "cell_type": "code",
   "execution_count": 118,
   "id": "36f82b35-4a58-4c6a-aeab-2d39d4ac97ad",
   "metadata": {},
   "outputs": [
    {
     "name": "stdout",
     "output_type": "stream",
     "text": [
      "SP\n",
      "HTS\n"
     ]
    }
   ],
   "source": [
    "Dict = {\"Name\": \"SP\", \"Experience\": 1.5, \"Organisation\":\"HTS\"}\n",
    "print(Dict.get(\"Name\"))\n",
    "print(Dict.get(\"Organisation\"))"
   ]
  },
  {
   "cell_type": "markdown",
   "id": "684de4ae-f40e-4762-9474-97e361cac225",
   "metadata": {},
   "source": [
    "---\n",
    "Q63. What is the use of items() function?"
   ]
  },
  {
   "cell_type": "raw",
   "id": "1ef88fef-956e-415e-afcd-85d3f1dd2b58",
   "metadata": {},
   "source": [
    "items() to read both key and value from the dictionary"
   ]
  },
  {
   "cell_type": "code",
   "execution_count": 119,
   "id": "d360ec7a-d1be-4c37-a511-d8c94fe32215",
   "metadata": {},
   "outputs": [
    {
     "name": "stdout",
     "output_type": "stream",
     "text": [
      "dict_items([('Name', 'SP'), ('Experience', 1.5), ('Organisation', 'HTS')])\n"
     ]
    }
   ],
   "source": [
    " print(Dict.items())"
   ]
  },
  {
   "cell_type": "markdown",
   "id": "23fd24fd-77c2-4798-869d-de587de90b5c",
   "metadata": {},
   "source": [
    "---\n",
    "Q64. What is the use of pop() function?"
   ]
  },
  {
   "cell_type": "code",
   "execution_count": 120,
   "id": "8e42cd8d-f93a-44c2-b229-beb0df3e80b7",
   "metadata": {},
   "outputs": [
    {
     "name": "stdout",
     "output_type": "stream",
     "text": [
      "{'Name': 'S P', 'Age': '24', 'Gender': 'Male', 'City': 'BLR', 'Country': 'IN', 'Occupation': 'Aerospace Engineer', 'Company': 'HTS'}\n"
     ]
    }
   ],
   "source": [
    "print(myDict)"
   ]
  },
  {
   "cell_type": "raw",
   "id": "a122c9e3-6893-41d4-aff7-ac2d00c2c924",
   "metadata": {},
   "source": [
    "pop() used to remove the specified item in pop() from the dictionary."
   ]
  },
  {
   "cell_type": "code",
   "execution_count": 121,
   "id": "842a4455-922e-440e-be6f-8a875d5a9d48",
   "metadata": {},
   "outputs": [
    {
     "data": {
      "text/plain": [
       "'24'"
      ]
     },
     "execution_count": 121,
     "metadata": {},
     "output_type": "execute_result"
    }
   ],
   "source": [
    "myDict.pop(\"Age\")"
   ]
  },
  {
   "cell_type": "code",
   "execution_count": 122,
   "id": "aba0232d-7701-4b30-a441-7406deef9cd5",
   "metadata": {},
   "outputs": [
    {
     "name": "stdout",
     "output_type": "stream",
     "text": [
      "{'Name': 'S P', 'Gender': 'Male', 'City': 'BLR', 'Country': 'IN', 'Occupation': 'Aerospace Engineer', 'Company': 'HTS'}\n"
     ]
    }
   ],
   "source": [
    "print(myDict)"
   ]
  },
  {
   "cell_type": "markdown",
   "id": "4cbb8d4d-a77c-4190-9552-b0120caee00f",
   "metadata": {},
   "source": [
    "---\n",
    "Q65. What is the use of popitem() function?"
   ]
  },
  {
   "cell_type": "raw",
   "id": "c93e3893-05ff-41e7-b691-958d097759cf",
   "metadata": {},
   "source": [
    "popitem() method removes the last inserted key-value pair from the dictionary and returns it as a tuple.\n",
    "\n",
    "popitem() remove the last item from the dictionary."
   ]
  },
  {
   "cell_type": "code",
   "execution_count": 124,
   "id": "2d2bb82c-0b7f-4075-b8eb-ab6be2fa0f70",
   "metadata": {},
   "outputs": [
    {
     "name": "stdout",
     "output_type": "stream",
     "text": [
      "('Languages', {'good': 'python', 'better': 'sql'})\n"
     ]
    }
   ],
   "source": [
    " print(myData.popitem())"
   ]
  },
  {
   "cell_type": "markdown",
   "id": "f3f49676-74d2-4160-adcc-22734547064d",
   "metadata": {},
   "source": [
    "---\n",
    "Q66. What is the use of keys() function?"
   ]
  },
  {
   "cell_type": "raw",
   "id": "06328d96-a772-405f-b1ca-56414f8d6cf7",
   "metadata": {},
   "source": [
    "keys() method returns a view object that displays a list of all the keys in the dictionary."
   ]
  },
  {
   "cell_type": "code",
   "execution_count": 127,
   "id": "8be0e65b-fe21-4050-9a57-bd43ee0ffcd9",
   "metadata": {},
   "outputs": [
    {
     "name": "stdout",
     "output_type": "stream",
     "text": [
      "dict_keys(['Name', 'Experience', 'Organisation'])\n"
     ]
    }
   ],
   "source": [
    "Dict = {\"Name\": \"SP\", \"Experience\": 1.5, \"Organisation\":\"HTS\"}\n",
    "print(Dict.keys())"
   ]
  },
  {
   "cell_type": "markdown",
   "id": "13be061e-b8cd-49b8-a99c-0d8fc691dab9",
   "metadata": {},
   "source": [
    "---\n",
    "Q67. What is the use of values() function?"
   ]
  },
  {
   "cell_type": "raw",
   "id": "3eee6881-eb32-49f9-9e07-dfe6bf427030",
   "metadata": {},
   "source": [
    "values() is an inbuilt method in Python programming language that returns a view object. The view object contains the values of the dictionary, as a list.\n"
   ]
  },
  {
   "cell_type": "code",
   "execution_count": 129,
   "id": "c03f7bf8-5e5d-4fd5-94bd-9d03284e156d",
   "metadata": {},
   "outputs": [
    {
     "name": "stdout",
     "output_type": "stream",
     "text": [
      "dict_values(['SP', 1.5, 'HTS'])\n"
     ]
    }
   ],
   "source": [
    "Dict = {\"Name\": \"SP\", \"Experience\": 1.5, \"Organisation\":\"HTS\"}\n",
    "print(Dict.values())"
   ]
  },
  {
   "cell_type": "markdown",
   "id": "9dddee1c-8f62-47e7-8c84-a84752b1afcb",
   "metadata": {},
   "source": [
    "---\n",
    "Q68. What are loops in Python?"
   ]
  },
  {
   "cell_type": "raw",
   "id": "094ddb8a-11e8-4085-a99b-21cd97f381b6",
   "metadata": {},
   "source": [
    "Loops are used the iterate over a block of statement multiple times."
   ]
  },
  {
   "cell_type": "markdown",
   "id": "b114dd2c-cf78-4ac3-8c16-8b4bf277f6fe",
   "metadata": {},
   "source": [
    "---\n",
    "Q69. How many type of loop are there in Python?"
   ]
  },
  {
   "cell_type": "raw",
   "id": "60cf482c-5112-4cf2-b2ff-bcb7d8ff4ab8",
   "metadata": {},
   "source": [
    "There is Two loops are in python:\n",
    "> for loop\n",
    "> while loop"
   ]
  },
  {
   "cell_type": "markdown",
   "id": "c4403188-e5bf-42d4-b412-85d88639e1ed",
   "metadata": {},
   "source": [
    "---\n",
    "Q70. What is the difference between for and while loops?"
   ]
  },
  {
   "cell_type": "raw",
   "id": "38cf5e3e-cd83-4aad-9bac-240e6c0d18b5",
   "metadata": {},
   "source": [
    "When we know the exact number of iterations, we can use for loop. When we want the to run till a certain condition is true we can use while loop.\n",
    "\n",
    "for loop iterate over the range of elements and perform the operations While loop perform some action if the condition flag is true"
   ]
  },
  {
   "cell_type": "markdown",
   "id": "77aed7c8-65ed-4faa-95af-0371f063c2de",
   "metadata": {},
   "source": [
    "---\n",
    "Q71. What is the use of continue statement?"
   ]
  },
  {
   "cell_type": "raw",
   "id": "1abc8208-6900-4ee3-9e72-e5b7b4a5236c",
   "metadata": {},
   "source": [
    "Continue Statement skips the execution of the program block from after the continue statement and forces the control to start the next iteration.\n",
    "\n",
    "The continue keyword is used to end the current iteration in a for loop (or a while loop), and continues to the next iteration"
   ]
  },
  {
   "cell_type": "markdown",
   "id": "dfe83df0-b71b-4043-b86f-e68a25ca50aa",
   "metadata": {},
   "source": [
    "---\n",
    "Q72. What is the use of break statement?"
   ]
  },
  {
   "cell_type": "raw",
   "id": "b54585ca-e07c-4dc3-9a82-128cdcfd33b5",
   "metadata": {},
   "source": [
    "break statement in Python is used to bring the control out of the loop when some external condition is triggered. break statement is put inside the loop body"
   ]
  },
  {
   "cell_type": "markdown",
   "id": "dcc5bc78-631b-446e-b7b1-66ff296688ac",
   "metadata": {},
   "source": [
    "---\n",
    "Q73. What is the use of pass statement?"
   ]
  },
  {
   "cell_type": "raw",
   "id": "f3505194-144e-4bc5-b78d-b878f3b6d771",
   "metadata": {},
   "source": [
    "The pass statement is a null statement. But the difference between pass and comment is that comment is ignored by the interpreter whereas pass is not ignored. "
   ]
  },
  {
   "cell_type": "markdown",
   "id": "9c16ee0c-7ae8-40ba-95c3-1fdf677ff69c",
   "metadata": {},
   "source": [
    "---\n",
    "Q74. What is the use of range() function?"
   ]
  },
  {
   "cell_type": "raw",
   "id": "062ad8f2-d473-45ee-91ba-3566786f1d9a",
   "metadata": {},
   "source": [
    "range() function returns a sequence of numbers, in a given range. The most common use of it is to iterate sequence on a sequence of numbers\n",
    "\n",
    "range() function is to generate the sequence of number between the start and end number given excluding the end number. by default it takes from 0 if we given only one number in it."
   ]
  },
  {
   "cell_type": "markdown",
   "id": "b2eedd8b-4ddf-421e-851c-3c99191b11b7",
   "metadata": {},
   "source": [
    "---\n",
    "Q75. How can you loop over a dictionary?"
   ]
  },
  {
   "cell_type": "raw",
   "id": "6b41e841-5c1e-457c-ac17-5132d7214e6b",
   "metadata": {},
   "source": [
    "1. using key\n",
    "2. using .items()\n",
    "3. using .keys()\n",
    "4. using .values()"
   ]
  },
  {
   "cell_type": "code",
   "execution_count": 2,
   "id": "de4e9e70-cc8d-4005-83af-beb82980129a",
   "metadata": {},
   "outputs": [
    {
     "name": "stdout",
     "output_type": "stream",
     "text": [
      "Gujarat\n",
      "Maharashtra\n",
      "Rajasthan\n",
      "Bihar\n"
     ]
    }
   ],
   "source": [
    "statesAndCapitals = {\n",
    "    'Gujarat': 'Gandhinagar',\n",
    "    'Maharashtra': 'Mumbai',\n",
    "    'Rajasthan': 'Jaipur',\n",
    "    'Bihar': 'Patna'\n",
    "}\n",
    "\n",
    "for state in statesAndCapitals:\n",
    "    print(state)"
   ]
  },
  {
   "cell_type": "markdown",
   "id": "0ec2a4d5-13bd-41d6-9656-e164b39833b3",
   "metadata": {},
   "source": [
    "---\n",
    "Q76. Write a Python program to find the factorial of a given number."
   ]
  },
  {
   "cell_type": "code",
   "execution_count": 1,
   "id": "4f15111d-6e79-426e-8e67-7b3941147333",
   "metadata": {},
   "outputs": [
    {
     "name": "stdout",
     "output_type": "stream",
     "text": [
      "Enter the Number:\n"
     ]
    },
    {
     "name": "stdin",
     "output_type": "stream",
     "text": [
      " 5\n"
     ]
    },
    {
     "name": "stdout",
     "output_type": "stream",
     "text": [
      "Factorial of 5 is 120\n"
     ]
    }
   ],
   "source": [
    "def factorial(n):\n",
    "  if n < 0:\n",
    "    return 0\n",
    "  elif n == 0 or n == 1:\n",
    "    return 1\n",
    "  else:\n",
    "    fact = 1\n",
    "    while(n>1):\n",
    "      fact *= n\n",
    "      n -= 1\n",
    "    return fact\n",
    "\n",
    "print(\"Enter the Number:\")\n",
    "n = int(input())\n",
    "print(f\"Factorial of {n} is {factorial(n)}\")"
   ]
  },
  {
   "cell_type": "markdown",
   "id": "84d836e3-5641-48a5-ba1c-73611e83935e",
   "metadata": {},
   "source": [
    "---\n",
    "Q77. Write a Python program to calculate the simple interest. Formula to calculate simple interest is SI = (P*R*T)/100"
   ]
  },
  {
   "cell_type": "code",
   "execution_count": 22,
   "id": "45863ed3-fa47-4e6c-852a-0aca19f690e4",
   "metadata": {},
   "outputs": [
    {
     "name": "stdout",
     "output_type": "stream",
     "text": [
      "Enter the Principal:\n"
     ]
    },
    {
     "name": "stdin",
     "output_type": "stream",
     "text": [
      " 8\n"
     ]
    },
    {
     "name": "stdout",
     "output_type": "stream",
     "text": [
      "Enter the rate of Interest:\n"
     ]
    },
    {
     "name": "stdin",
     "output_type": "stream",
     "text": [
      " 8\n"
     ]
    },
    {
     "name": "stdout",
     "output_type": "stream",
     "text": [
      "Enter the terms(in Year):\n"
     ]
    },
    {
     "name": "stdin",
     "output_type": "stream",
     "text": [
      " 6\n"
     ]
    },
    {
     "name": "stdout",
     "output_type": "stream",
     "text": [
      "3.84\n"
     ]
    }
   ],
   "source": [
    "def SI(P,R,T):\n",
    "    si = (P * R * T) / 100\n",
    "    return si\n",
    "\n",
    "print(\"Enter the Principal:\")\n",
    "P = int(input())\n",
    "print(\"Enter the rate of Interest:\")\n",
    "R = float(input())\n",
    "print(\"Enter the terms(in Year):\")\n",
    "T = int(input())\n",
    "\n",
    "print(SI(P,R,T))"
   ]
  },
  {
   "cell_type": "markdown",
   "id": "6935b076-2d86-4a1f-9b17-ff0db584913f",
   "metadata": {},
   "source": [
    "---\n",
    "Q78. Write a Python program to calculate the compound interest. Formula of compound interest is A = P(1+ R/100)^t.\n"
   ]
  },
  {
   "cell_type": "code",
   "execution_count": 26,
   "id": "534ee741-0109-4e7b-94df-f720d86f3361",
   "metadata": {},
   "outputs": [
    {
     "name": "stdout",
     "output_type": "stream",
     "text": [
      "2.0971520000000004e-06\n"
     ]
    }
   ],
   "source": [
    "def A(P,R,t):\n",
    "    return P * (R/100)**t\n",
    "\n",
    "print(A(P,R,T))"
   ]
  },
  {
   "cell_type": "markdown",
   "id": "05685092-9f6a-42ce-ad30-72601b94f5fd",
   "metadata": {},
   "source": [
    "---\n",
    "Q79. Write a Python program to check if a number is prime or not."
   ]
  },
  {
   "cell_type": "code",
   "execution_count": 4,
   "id": "61ce5a5f-f705-4930-b69b-b5de61c4ff64",
   "metadata": {},
   "outputs": [
    {
     "name": "stdin",
     "output_type": "stream",
     "text": [
      " 5\n"
     ]
    },
    {
     "name": "stdout",
     "output_type": "stream",
     "text": [
      "True\n"
     ]
    }
   ],
   "source": [
    "def isPrime(n):\n",
    "    if n == 2:\n",
    "        return True\n",
    "    if n % 2 == 0:\n",
    "        return False\n",
    "    \n",
    "    for i in range(2,int(n**0.5)+1,2):\n",
    "        if n % i == 0:\n",
    "            return False\n",
    "        else:\n",
    "            return True\n",
    "\n",
    "    return True\n",
    "\n",
    "number = int(input())\n",
    "print(isPrime(number))"
   ]
  },
  {
   "cell_type": "markdown",
   "id": "9e811308-b3e2-4f4b-adb0-20b29fc8a876",
   "metadata": {},
   "source": [
    "---\n",
    "Q80. Write a Python program to check Armstrong Number."
   ]
  },
  {
   "cell_type": "code",
   "execution_count": 6,
   "id": "cb2c64ff-fa94-494d-8591-91b440995ee7",
   "metadata": {},
   "outputs": [
    {
     "name": "stdin",
     "output_type": "stream",
     "text": [
      " 99\n"
     ]
    },
    {
     "name": "stdout",
     "output_type": "stream",
     "text": [
      "The Number 99 is not Armstrong Number\n"
     ]
    }
   ],
   "source": [
    "def isArmstrong(n):\n",
    "\n",
    "    sum = 0\n",
    "\n",
    "    if n == 0:\n",
    "        return True\n",
    "    else:\n",
    "        while n > 0:\n",
    "            rem = n // 2\n",
    "            sum += pow(rem, 3)\n",
    "            n = n % 2\n",
    "    \n",
    "    return sum\n",
    "\n",
    "\n",
    "number = int(input())\n",
    "if number == isArmstrong:\n",
    "    print(f'The Number {number} is Armstrong Number')\n",
    "else:\n",
    "    print(f'The Number {number} is not Armstrong Number')"
   ]
  },
  {
   "cell_type": "markdown",
   "id": "5755e3ee-efae-4cb2-a663-4f18e04663a7",
   "metadata": {},
   "source": [
    "---\n",
    "Q81. Write a Python program to find the n-th Fibonacci Number."
   ]
  },
  {
   "cell_type": "code",
   "execution_count": 9,
   "id": "44dff4b1-571f-4b5e-b82a-cacf659625b7",
   "metadata": {},
   "outputs": [
    {
     "name": "stdout",
     "output_type": "stream",
     "text": [
      "8\n"
     ]
    }
   ],
   "source": [
    "def Fibonacci(n):\n",
    "    if n<= 0:\n",
    "        print(\"Incorrect input\")\n",
    "    elif n == 1:\n",
    "        return 0\n",
    "    elif n == 2:\n",
    "        return 1\n",
    "    else:\n",
    "        return Fibonacci(n-1)+Fibonacci(n-2)\n",
    "\n",
    "print(Fibonacci(7))"
   ]
  },
  {
   "cell_type": "markdown",
   "id": "9f1874d3-df7d-4412-a08d-61de9c1bc75f",
   "metadata": {},
   "source": [
    "---\n",
    "Q82. Write a Python program to interchange the first and last element in a list."
   ]
  },
  {
   "cell_type": "code",
   "execution_count": 12,
   "id": "29cded61-53eb-469c-8dbe-0c0620520aa6",
   "metadata": {},
   "outputs": [
    {
     "name": "stdout",
     "output_type": "stream",
     "text": [
      "[29, 12, 35, 17, 9, 56, 15]\n"
     ]
    }
   ],
   "source": [
    "def swap_list(newList):\n",
    "    size = len(newList)\n",
    "    temp = newList[0]\n",
    "    newList[0] = newList[size - 1]\n",
    "    newList[size - 1] = temp\n",
    "\n",
    "    return newList\n",
    "\n",
    "newList = [15, 12, 35, 17, 9, 56, 29]\n",
    "print(swap_list(newList))"
   ]
  },
  {
   "cell_type": "code",
   "execution_count": 13,
   "id": "d9e225b4-d249-430a-bb87-d40ba871d1d4",
   "metadata": {},
   "outputs": [
    {
     "name": "stdout",
     "output_type": "stream",
     "text": [
      "[29, 12, 35, 17, 9, 56, 15]\n"
     ]
    }
   ],
   "source": [
    "def swap_list(newList):\n",
    "     \n",
    "    newList[0], newList[-1] = newList[-1], newList[0]\n",
    " \n",
    "    return newList\n",
    "     \n",
    "newList = [15, 12, 35, 17, 9, 56, 29]\n",
    "print(swap_list(newList))"
   ]
  },
  {
   "cell_type": "markdown",
   "id": "ff451f22-f5d3-4287-9a84-52cb7f05d7fc",
   "metadata": {},
   "source": [
    "---\n",
    "Q83. Write a Python program to swap two elements in a list."
   ]
  },
  {
   "cell_type": "code",
   "execution_count": 15,
   "id": "5428adc8-a859-4916-b214-a72625a8ffae",
   "metadata": {},
   "outputs": [
    {
     "name": "stdout",
     "output_type": "stream",
     "text": [
      "[1, 2, 3, 4, 5]\n",
      "[5, 2, 3, 4, 1]\n"
     ]
    }
   ],
   "source": [
    "my_list = [1, 2, 3, 4, 5]\n",
    "\n",
    "print(my_list)\n",
    "\n",
    "temp = my_list[len(my_list)-1]\n",
    "my_list[len(my_list)-1] = my_list[0]\n",
    "my_list[0] = temp\n",
    "\n",
    "print(my_list)"
   ]
  },
  {
   "cell_type": "markdown",
   "id": "dab2e46e-c677-40c8-a5dd-24edc8dd9692",
   "metadata": {},
   "source": [
    "---\n",
    "Q84. Write a Python program to find N largest element from a list."
   ]
  },
  {
   "cell_type": "code",
   "execution_count": 17,
   "id": "2f1fa5d5-ec75-41ab-be76-3333b35aa4bb",
   "metadata": {},
   "outputs": [
    {
     "name": "stdout",
     "output_type": "stream",
     "text": [
      "[5, 4, 3, 2, 1]\n",
      "Enter the nth Big number to find\n"
     ]
    },
    {
     "name": "stdin",
     "output_type": "stream",
     "text": [
      " 5\n"
     ]
    },
    {
     "name": "stdout",
     "output_type": "stream",
     "text": [
      "1\n"
     ]
    }
   ],
   "source": [
    "my_list = [1, 2, 3, 4, 5]\n",
    "\n",
    "my_list.sort(reverse=True)\n",
    "print(my_list)\n",
    "\n",
    "print(\"Enter the nth Big number to find\")\n",
    "nth = int(input())\n",
    "print(my_list[nth-1])"
   ]
  },
  {
   "cell_type": "markdown",
   "id": "03aac2f4-e394-47c5-9b59-4041245d2946",
   "metadata": {},
   "source": [
    "---\n",
    "Q85. Write a Python program to find cumulative sum of a list."
   ]
  },
  {
   "cell_type": "code",
   "execution_count": 18,
   "id": "e3a0dbe5-af86-4f3d-b767-2f0f660a2fce",
   "metadata": {},
   "outputs": [
    {
     "name": "stdout",
     "output_type": "stream",
     "text": [
      "15\n"
     ]
    }
   ],
   "source": [
    "my_list = [1, 2, 3, 4, 5]\n",
    "sum = 0\n",
    "\n",
    "for i in my_list:\n",
    "    sum = sum + i\n",
    "\n",
    "print(sum)"
   ]
  },
  {
   "cell_type": "markdown",
   "id": "c2e883a4-065c-4b1e-8ace-9f017587eb51",
   "metadata": {},
   "source": [
    "---\n",
    "Q86. Write a Python program to check if a string is palindrome or not."
   ]
  },
  {
   "cell_type": "code",
   "execution_count": 21,
   "id": "ff2ff07b-d1b0-45c2-87f0-c4c66f8fcde7",
   "metadata": {},
   "outputs": [
    {
     "data": {
      "text/plain": [
       "'dad is palindrome'"
      ]
     },
     "execution_count": 21,
     "metadata": {},
     "output_type": "execute_result"
    }
   ],
   "source": [
    "def isPalindrome(s):\n",
    "  if s == s[::-1]:\n",
    "     return f\"{s} is palindrome\"\n",
    "  return f\"{s} is not palindrome\"\n",
    "\n",
    "s = \"dad\"\n",
    "isPalindrome(s)"
   ]
  },
  {
   "cell_type": "markdown",
   "id": "1af2366f-4311-4610-aaf0-762c90830672",
   "metadata": {},
   "source": [
    "---\n",
    "Q87. Write a Python program to remove i'th element from a string."
   ]
  },
  {
   "cell_type": "code",
   "execution_count": 22,
   "id": "1c52225b-20d5-46c0-a452-e23cdc07ca1f",
   "metadata": {},
   "outputs": [
    {
     "name": "stdout",
     "output_type": "stream",
     "text": [
      "Big data Course\n"
     ]
    }
   ],
   "source": [
    "myStr = 'Big data Ccourse'\n",
    "\n",
    "new_str = myStr.replace('c', '')\n",
    "print(new_str)"
   ]
  },
  {
   "cell_type": "markdown",
   "id": "4ba64453-a76b-496a-8df6-80c2c95b4a13",
   "metadata": {},
   "source": [
    "---\n",
    "Q88. Write a Python program to check if a substring is present in a given string."
   ]
  },
  {
   "cell_type": "code",
   "execution_count": 28,
   "id": "0727e166-2b38-4cd7-8a50-70dc5d0bb517",
   "metadata": {},
   "outputs": [
    {
     "name": "stdout",
     "output_type": "stream",
     "text": [
      "['Big', 'Data', 'Bootcamp', '2.0', 'Assignments']\n"
     ]
    },
    {
     "name": "stdin",
     "output_type": "stream",
     "text": [
      "Enter the substring 2.0\n"
     ]
    },
    {
     "name": "stdout",
     "output_type": "stream",
     "text": [
      "2.0\n",
      "2.0 is present in the sentence\n"
     ]
    }
   ],
   "source": [
    "my_sentence = \"Big Data Bootcamp 2.0 Assignments\"\n",
    "\n",
    "my_list = my_sentence.split(' ')\n",
    "print(my_list)\n",
    "\n",
    "find = input('Enter the substring')\n",
    "print(find)\n",
    "\n",
    "if find in my_list:    \n",
    "    print(f'{find} is present in the sentence')\n",
    "else:\n",
    "    print(f'{find} is not present in the sentence')"
   ]
  },
  {
   "cell_type": "markdown",
   "id": "a1ff6e46-a3bf-4411-ae2f-80ea0669f9ad",
   "metadata": {},
   "source": [
    "---\n",
    "Q89. Write a Python program to find words which are greater than given length k."
   ]
  },
  {
   "cell_type": "code",
   "execution_count": 34,
   "id": "b96347cb-5e85-43c3-962a-266b91d7d70e",
   "metadata": {},
   "outputs": [
    {
     "name": "stdout",
     "output_type": "stream",
     "text": [
      "['Data', 'Bootcamp', 'Assignments']\n"
     ]
    }
   ],
   "source": [
    "def string_greater_than_k(k, str):\n",
    "\n",
    "    string = []\n",
    "\n",
    "    text = str.split(\" \")\n",
    "\n",
    "    for x in text:\n",
    "\n",
    "        if len(x) > k:\n",
    "\n",
    "            string.append(x)\n",
    "\n",
    "    return string\n",
    "\n",
    "k = 3\n",
    "str = \"Big Data Bootcamp 2.0 Assignments\"\n",
    "print(string_greater_than_k(k, str))"
   ]
  },
  {
   "cell_type": "markdown",
   "id": "9fd934db-e62c-420f-b171-6ad1d5d186de",
   "metadata": {},
   "source": [
    "---\n",
    "Q90. Write a Python program to extract unique dictionary values."
   ]
  },
  {
   "cell_type": "code",
   "execution_count": 36,
   "id": "aba14da5-b923-45f9-905f-fdeae94207f7",
   "metadata": {},
   "outputs": [
    {
     "name": "stdout",
     "output_type": "stream",
     "text": [
      "The original dictionary is :  {'A': [1, 3, 5, 4], 'B': [4, 6, 8, 10], 'C': [6, 12, 4, 8], 'D': [5, 7, 2]}\n",
      "The unique values list is :  [1, 2, 3, 4, 5, 6, 7, 8, 10, 12]\n"
     ]
    }
   ],
   "source": [
    "dict1 = {'A' : [1, 3, 5, 4],\n",
    "         'B' : [4, 6, 8, 10],\n",
    "         'C' : [6, 12, 4 ,8],\n",
    "         'D' : [5, 7, 2]}\n",
    "print(\"The original dictionary is : \" ,dict1)\n",
    "  \n",
    "# Using list comprehension, values() and sorted()\n",
    "res = list(sorted({ele for val in dict1.values() for ele in val}))\n",
    "  \n",
    "# print result \n",
    "print(\"The unique values list is : \" , res) "
   ]
  },
  {
   "cell_type": "markdown",
   "id": "d6d579b3-bdb5-46b1-ba99-757e09e6eada",
   "metadata": {},
   "source": [
    "---\n",
    "Q91. Write a Python program to merge two dictionary."
   ]
  },
  {
   "cell_type": "code",
   "execution_count": 37,
   "id": "cad47ef6-0cc1-46d0-8233-c710b460e598",
   "metadata": {},
   "outputs": [
    {
     "name": "stdout",
     "output_type": "stream",
     "text": [
      "None\n",
      "{'d': 6, 'c': 4, 'a': 10, 'b': 8}\n"
     ]
    }
   ],
   "source": [
    "def Merge(dict1, dict2):\n",
    "    return(dict2.update(dict1))\n",
    " \n",
    " \n",
    "# Driver code\n",
    "dict1 = {'a': 10, 'b': 8}\n",
    "dict2 = {'d': 6, 'c': 4}\n",
    " \n",
    "# This returns None\n",
    "print(Merge(dict1, dict2))\n",
    " \n",
    "# changes made in dict2\n",
    "print(dict2)"
   ]
  },
  {
   "cell_type": "markdown",
   "id": "2e958d2f-3321-40aa-b48a-2fe6e16a2bef",
   "metadata": {},
   "source": [
    "---\n",
    "Q92. Write a Python program to convert a list of tuples into dictionary."
   ]
  },
  {
   "cell_type": "code",
   "execution_count": 38,
   "id": "6c90aff3-c89d-4fa3-a37e-45d96c9d8770",
   "metadata": {},
   "outputs": [
    {
     "name": "stdout",
     "output_type": "stream",
     "text": [
      "{'Sachin': 10, 'MSD': 7, 'Kohli': 18, 'Rohit': 45}\n"
     ]
    }
   ],
   "source": [
    " Input : [('Sachin', 10), ('MSD', 7), ('Kohli', 18), ('Rohit', 45)]\n",
    " Output : {'Sachin': 10, 'MSD': 7, 'Kohli': 18, 'Rohit': 45}\n",
    "\n",
    "def Convert(tup, di):\n",
    "    di = dict(tup)\n",
    "    return di\n",
    "      \n",
    "tups = [('Sachin', 10), ('MSD', 7), ('Kohli', 18), ('Rohit', 45)]\n",
    "dictionary = {}\n",
    "print (Convert(tups, dictionary))"
   ]
  },
  {
   "cell_type": "markdown",
   "id": "b7537234-80f7-43c7-acc5-bdc072f1ccec",
   "metadata": {},
   "source": [
    "---\n",
    "Q93. Write a Python program to create a list of tuples from given list having number and its cube in each tuple."
   ]
  },
  {
   "cell_type": "code",
   "execution_count": 39,
   "id": "f11f90bc-cf92-4da3-8f7c-7ec38c4f98f0",
   "metadata": {},
   "outputs": [
    {
     "name": "stdout",
     "output_type": "stream",
     "text": [
      "[(9, 729), (5, 125), (6, 216)]\n"
     ]
    }
   ],
   "source": [
    " Input: list = [9, 5, 6]\n",
    " Output: [(9, 729), (5, 125), (6, 216)]\n",
    "\n",
    "lst = [9, 5, 6]\n",
    "\n",
    "result_list = [(val, pow(val, 3)) for val in lst]\n",
    "print(result_list)\n"
   ]
  },
  {
   "cell_type": "markdown",
   "id": "7567099a-724b-436d-beae-5250a03e0482",
   "metadata": {},
   "source": [
    "---\n",
    "Q94. Write a Python program to get all combinations of 2 tuples.\n",
    "\n",
    "```\n",
    "Input : test_tuple1 = (7, 2), test_tuple2 = (7, 8)\n",
    "Output : [(7, 7), (7, 8), (2, 7), (2, 8), (7, 7), (7, 2), (8, 7), (8, 2)]\n",
    "```"
   ]
  },
  {
   "cell_type": "code",
   "execution_count": 42,
   "id": "a0145731-c9a4-4b2d-b998-9f97d1895405",
   "metadata": {},
   "outputs": [
    {
     "name": "stdout",
     "output_type": "stream",
     "text": [
      "[(7, 7), (7, 8), (2, 7), (2, 8), (7, 7), (7, 2), (8, 7), (8, 2)]\n"
     ]
    }
   ],
   "source": [
    "test_tuple1 = (7, 2)\n",
    "test_tuple2 = (7, 8)\n",
    "\n",
    "result_list = [(tup1, tup2) for tup1 in test_tuple1 for tup2 in test_tuple2]\n",
    "\n",
    "result_list = result_list + [(tup1, tup2) for tup1 in test_tuple2 for tup2 in test_tuple1]\n",
    "\n",
    "print(result_list)\n"
   ]
  },
  {
   "cell_type": "markdown",
   "id": "bb5305c4-29dc-48e8-af54-558bc26d3449",
   "metadata": {},
   "source": [
    "---\n",
    "Q95. Write a Python program to sort a list of tuples by second item.\n",
    "\n",
    "```\n",
    "Input : [('452', 10), ('256', 5), ('100', 20), ('135', 15)]\n",
    "Output : [('256', 5), ('452', 10), ('135', 15), ('100', 20)]\n",
    "```"
   ]
  },
  {
   "cell_type": "code",
   "execution_count": 52,
   "id": "167a89fc-f883-48f4-8044-417b3c842b6a",
   "metadata": {},
   "outputs": [
    {
     "name": "stdout",
     "output_type": "stream",
     "text": [
      "Original Tuple List : [('452', 10), ('256', 5), ('100', 20), ('135', 15)]\n",
      "Sorted Tuple List: [('256', 5), ('452', 10), ('135', 15), ('100', 20)]\n"
     ]
    }
   ],
   "source": [
    "tuple = [('452', 10), ('256', 5), ('100', 20), ('135', 15)]\n",
    "print(\"Original Tuple List :\" ,tuple)\n",
    "\n",
    "def Sort(tuple): \n",
    "    # Sorts in Ascending order \n",
    "    tuple.sort(key = lambda a: a[1]) \n",
    "    return tuple \n",
    "\n",
    "print(\"Sorted Tuple List:\" ,Sort(tuple))"
   ]
  },
  {
   "cell_type": "markdown",
   "id": "56ec53cf-0010-490a-9ede-032a24d0381f",
   "metadata": {},
   "source": [
    "---\n",
    "Q96. Write a python program to print below pattern.\n",
    "```\n",
    "* \n",
    "* * \n",
    "* * * \n",
    "* * * * \n",
    "* * * * * \n",
    "```"
   ]
  },
  {
   "cell_type": "code",
   "execution_count": 2,
   "id": "43887369-9045-4632-bb86-f11525e932b6",
   "metadata": {},
   "outputs": [
    {
     "name": "stdin",
     "output_type": "stream",
     "text": [
      "Enter the Value 5\n"
     ]
    },
    {
     "name": "stdout",
     "output_type": "stream",
     "text": [
      "\n",
      " *\n",
      " * *\n",
      " * * *\n",
      " * * * *\n",
      " * * * * *\n"
     ]
    }
   ],
   "source": [
    "\n",
    "n = int(input('Enter the Value'))\n",
    "for i in range(n+1):\n",
    "    print(' *' * i)"
   ]
  },
  {
   "cell_type": "markdown",
   "id": "d28762a1-c38a-4c03-8101-19034bd8ed45",
   "metadata": {},
   "source": [
    "---\n",
    "Q97. Write a python program to print below pattern.\n",
    "```\n",
    "    *\n",
    "   **\n",
    "  *** \n",
    " ****\n",
    "*****\n",
    "```"
   ]
  },
  {
   "cell_type": "code",
   "execution_count": 1,
   "id": "920aaf6f-6149-4dc1-ba75-29b81d8291a4",
   "metadata": {},
   "outputs": [
    {
     "name": "stdin",
     "output_type": "stream",
     "text": [
      "Enter the Value 5\n"
     ]
    },
    {
     "name": "stdout",
     "output_type": "stream",
     "text": [
      "     *\n",
      "    **\n",
      "   ***\n",
      "  ****\n",
      " *****\n",
      "******\n"
     ]
    }
   ],
   "source": [
    "n = int(input('Enter the Value'))\n",
    "for i in range(n+1):\n",
    "    print(' '*(n-i) + '*'*  (i+1))"
   ]
  },
  {
   "cell_type": "markdown",
   "id": "d0d1ca64-0e5b-4d57-88b7-86995ef951e3",
   "metadata": {},
   "source": [
    "---\n",
    "Q98. Write a python program to print below pattern.\n",
    "\n",
    "```\n",
    "    * \n",
    "   * * \n",
    "  * * * \n",
    " * * * * \n",
    "* * * * * \n",
    "```"
   ]
  },
  {
   "cell_type": "code",
   "execution_count": 19,
   "id": "fe32f36a-0a65-44ef-9dc2-400a91d29fac",
   "metadata": {},
   "outputs": [
    {
     "name": "stdin",
     "output_type": "stream",
     "text": [
      "Enter the Row:  5\n"
     ]
    },
    {
     "name": "stdout",
     "output_type": "stream",
     "text": [
      "     * \n",
      "    * * \n",
      "   * * * \n",
      "  * * * * \n",
      " * * * * * \n",
      "* * * * * * \n"
     ]
    }
   ],
   "source": [
    "n = int(input('Enter the Row: '))\n",
    "\n",
    "for i in range(n+1):\n",
    "    print(' '*(n-i) + '* '* (i+1))"
   ]
  },
  {
   "cell_type": "markdown",
   "id": "7dbd3382-6049-4291-b84b-71cc935f79fa",
   "metadata": {},
   "source": [
    "---\n",
    "Q99. Write a python program to print below pattern.\n",
    "```\n",
    "1 \n",
    "1 2 \n",
    "1 2 3 \n",
    "1 2 3 4 \n",
    "1 2 3 4 5\n",
    "```"
   ]
  },
  {
   "cell_type": "code",
   "execution_count": 17,
   "id": "bcc5cccf-a4ef-4b1d-b4e6-b4c73087d3bd",
   "metadata": {},
   "outputs": [
    {
     "name": "stdin",
     "output_type": "stream",
     "text": [
      "Enter the Row:  6\n"
     ]
    },
    {
     "name": "stdout",
     "output_type": "stream",
     "text": [
      "1 \n",
      "\n",
      "1 2 \n",
      "\n",
      "1 2 3 \n",
      "\n",
      "1 2 3 4 \n",
      "\n",
      "1 2 3 4 5 \n",
      "\n"
     ]
    }
   ],
   "source": [
    "n = int(input('Enter the Row: '))\n",
    "for i in range(1,n):\n",
    "    for j in range(1,i+1):\n",
    "        print(j, end=' ')\n",
    "    print('\\n')"
   ]
  },
  {
   "cell_type": "markdown",
   "id": "b43838ff-44da-4e22-b323-ab90eaa047a6",
   "metadata": {},
   "source": [
    "---\n",
    "Q100. Write a python program to print below pattern.\n",
    "```\n",
    "A \n",
    "B B \n",
    "C C C \n",
    "D D D D \n",
    "E E E E E \n",
    "```"
   ]
  },
  {
   "cell_type": "code",
   "execution_count": 15,
   "id": "7deea163-7081-4540-a0ab-e59daf43abbe",
   "metadata": {},
   "outputs": [
    {
     "name": "stdin",
     "output_type": "stream",
     "text": [
      "Enter the value of Row: 5\n"
     ]
    },
    {
     "name": "stdout",
     "output_type": "stream",
     "text": [
      "A \n",
      "\n",
      "B B \n",
      "\n",
      "C C C \n",
      "\n",
      "D D D D \n",
      "\n",
      "E E E E E \n",
      "\n"
     ]
    }
   ],
   "source": [
    "val = 65\n",
    "\n",
    "n = int(input('Enter the value of Row:'))\n",
    "for i in range(n):\n",
    "    for j in range(i+1):\n",
    "        print(chr(val), end=' ')\n",
    "    val+=1\n",
    "    print('\\n')"
   ]
  },
  {
   "cell_type": "raw",
   "id": "90d38e56-634e-4308-a34e-f1d70a437049",
   "metadata": {},
   "source": [
    "The End"
   ]
  },
  {
   "cell_type": "markdown",
   "id": "475d324f-9e11-487d-a992-b5264697a4c5",
   "metadata": {},
   "source": [
    "---"
   ]
  }
 ],
 "metadata": {
  "kernelspec": {
   "display_name": "Python 3 (ipykernel)",
   "language": "python",
   "name": "python3"
  },
  "language_info": {
   "codemirror_mode": {
    "name": "ipython",
    "version": 3
   },
   "file_extension": ".py",
   "mimetype": "text/x-python",
   "name": "python",
   "nbconvert_exporter": "python",
   "pygments_lexer": "ipython3",
   "version": "3.9.12"
  }
 },
 "nbformat": 4,
 "nbformat_minor": 5
}
