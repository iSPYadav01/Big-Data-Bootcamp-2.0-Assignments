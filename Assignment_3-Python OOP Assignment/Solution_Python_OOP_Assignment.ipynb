{
 "cells": [
  {
   "cell_type": "markdown",
   "id": "e5321134-1db5-4806-9a04-cb2977e3391d",
   "metadata": {},
   "source": [
    "## Assignment-3\n",
    "##### Python OOP Assignment\n",
    "##### [Python_OOP_Assignment.md](https://github.com/vishalsingh17/PythonBigDataQuestions/blob/main/Python_OOP_Assignment.md)\n",
    "\n",
    "#### [iNeuron-Bigdata-BootCamp 2.0]((https://github.com/iSPYadav01/Big-Data-Bootcamp-2.0-Assignments))\n",
    "* Name-Surendra Kumar Yadav\n",
    "---\n",
    "---"
   ]
  },
  {
   "cell_type": "markdown",
   "id": "629544f3-e768-4f50-b2c2-e4972cfe01dc",
   "metadata": {},
   "source": [
    "Q1. What is the purpose of Python's OOP?"
   ]
  },
  {
   "cell_type": "raw",
   "id": "d2bd8146-1691-4239-b417-5631a45fd54a",
   "metadata": {},
   "source": [
    "The main purpose of OOP is to help organize and structure code in a way that is easier to understand and maintain. OOP allows you to create reusable blocks of code that can be used in multiple programs, and it makes it easier to make changes to your code because you only have to change the code in one place instead of searching through and modifying code in multiple places."
   ]
  },
  {
   "cell_type": "markdown",
   "id": "66312b87-117d-45da-9de9-960b760043e4",
   "metadata": {},
   "source": [
    "---\n",
    "Q2. Where does an inheritance search look for an attribute?"
   ]
  },
  {
   "cell_type": "raw",
   "id": "d3dc374d-f303-4809-8450-2b8552f959d1",
   "metadata": {},
   "source": [
    "when you try to access an attribute of an object, the interpreter looks for the attribute in the object's own namespace. If the attribute is not found there, the interpreter will then look for the attribute in the object's class and its superclasses\n",
    "\n",
    "For example, if you have a class hierarchy with classes A, B, and C, where C is derived from B and B is derived from A, the MRO for C will be C, B, A. If you try to access an attribute or method that is not found in C, the interpreter will look for it in B, and then in A if it is not found in B."
   ]
  },
  {
   "cell_type": "markdown",
   "id": "5dac328d-b706-431a-bca6-c40d29fb1841",
   "metadata": {},
   "source": [
    "---\n",
    "Q3. How do you distinguish between a class object and an instance object?"
   ]
  },
  {
   "cell_type": "raw",
   "id": "cf079935-45ec-4704-ab09-9734be6e2913",
   "metadata": {},
   "source": [
    "A class is a template or blueprint for creating objects. It defines the attributes and behavior of a type of object. An instance is a specific object created from a class."
   ]
  },
  {
   "cell_type": "raw",
   "id": "62460763-8b5f-4605-9aad-88e6098cfa94",
   "metadata": {},
   "source": [
    "\n",
    "Classes:\n",
    "A class is a template for creating objects in program.\n",
    "A class is a logical entity\n",
    "A class does not allocate memory space when it is created.\n",
    "You can declare class only once.\n",
    "Example: Car.\n",
    "Class generates objects\n",
    "\n",
    "Object:\n",
    "The object is an instance of a class.\n",
    "Object is a physical entity\n",
    "Object allocates memory space whenever they are created.\n",
    "You can create more than one object using a class.\n",
    "Example: Jaguar, BMW, Tesla, etc.\n",
    "Objects provide life to the class."
   ]
  },
  {
   "cell_type": "raw",
   "id": "e635b310-2a68-44b6-8a27-89db9f19bff4",
   "metadata": {},
   "source": [
    "class MyClass:\n",
    "    pass\n",
    "\n",
    "obj = MyClass()\n",
    "\n",
    "\n",
    "Here, `MyClass` is a class object and `obj` is an instance object. You can check the type of each object using the `type` function:"
   ]
  },
  {
   "cell_type": "code",
   "execution_count": 3,
   "id": "b52ef834-d610-4328-9906-5f3b3cfd969a",
   "metadata": {},
   "outputs": [
    {
     "name": "stdout",
     "output_type": "stream",
     "text": [
      "<class 'type'>\n",
      "<class '__main__.MyClass'>\n"
     ]
    }
   ],
   "source": [
    "print(type(MyClass)) \n",
    "print(type(obj))     \n",
    "#As you can see, MyClass is an instance of the type class, while obj is an instance of the MyClass class."
   ]
  },
  {
   "cell_type": "markdown",
   "id": "d3eff0da-c849-4443-ab33-214957c2353a",
   "metadata": {},
   "source": [
    "---\n",
    "Q4. What makes the first argument in a class’s method function special?"
   ]
  },
  {
   "cell_type": "raw",
   "id": "2864c906-d3ce-43ee-8d04-ea9cc9f0e796",
   "metadata": {},
   "source": [
    "A class method is similar to an instance method, but it has a class object passed as its first argument. Recall that, when an instance method is called from an instance object, that instance object is automatically passed as the first argument to the method.\n",
    "\n",
    "The first argument in a method function of a class is usually called self. \n",
    "This argument is special because it refers to the instance of the class that is calling the method."
   ]
  },
  {
   "cell_type": "code",
   "execution_count": 6,
   "id": "e1335d9e-8c5d-4504-a662-965aedaf4ecb",
   "metadata": {},
   "outputs": [
    {
     "name": "stdout",
     "output_type": "stream",
     "text": [
      "Hello!\n"
     ]
    }
   ],
   "source": [
    "class MyClass:\n",
    "    def greet(self):\n",
    "        print(\"Hello!\")\n",
    "\n",
    "obj = MyClass()\n",
    "obj.greet()  \n"
   ]
  },
  {
   "cell_type": "raw",
   "id": "ec6ac796-0bfd-447a-aad2-a8976d6373a2",
   "metadata": {},
   "source": [
    "Here, greet is a method of the MyClass class that prints a greeting message. When you call the greet method on an instance of MyClass, the self argument refers to that instance."
   ]
  },
  {
   "cell_type": "markdown",
   "id": "58a25418-ac0a-46ab-b25c-54c4dd88a603",
   "metadata": {},
   "source": [
    "---\n",
    "Q5. What is the purpose of the init method?\n"
   ]
  },
  {
   "cell_type": "raw",
   "id": "3f9b15aa-2394-4fd1-8600-832156c1a497",
   "metadata": {},
   "source": [
    "In Python, the __init__ method is a special method that is called when an object is created. It is used to initialize the attributes of the object and set them to the desired starting values.\n",
    "\n",
    "the __init__() function uses to assign the values to object properties, or other operations that are necessary to do when the object is being created:"
   ]
  },
  {
   "cell_type": "markdown",
   "id": "82100ddb-7e42-4192-83b3-83211e7cb774",
   "metadata": {},
   "source": [
    "---\n",
    "Q6. What is the process for creating a class instance?"
   ]
  },
  {
   "cell_type": "raw",
   "id": "b44310aa-bb24-457d-8475-eec59353559e",
   "metadata": {},
   "source": [
    "To create an instance of a class in Python, you need to follow these steps:\n",
    "\n",
    "> Define the class using the class keyword. Inside the class definition, you can define the attributes and methods of the class.\n",
    "\n",
    "> Create an object of the class by calling the class name as if it were a function. This will create a new instance of the class and return a reference to the object."
   ]
  },
  {
   "cell_type": "code",
   "execution_count": 7,
   "id": "8b2a31ae-fad0-4bb6-9e1c-74ab15765fbb",
   "metadata": {},
   "outputs": [],
   "source": [
    "#Here is an example of creating a class and an instance of that class:\n",
    "class MyClass:\n",
    "    def __init__(self, value):\n",
    "        self.value = value\n",
    "\n",
    "obj = MyClass(10)\n"
   ]
  },
  {
   "cell_type": "markdown",
   "id": "af8d9e5e-69b3-4031-a7f2-08a33bf6c777",
   "metadata": {},
   "source": [
    "---\n",
    "Q7. What is the process for creating a class?"
   ]
  },
  {
   "cell_type": "raw",
   "id": "d1b83460-5d40-42d1-955f-47ab22b6f1d0",
   "metadata": {},
   "source": [
    "To create a class in Python, you need to follow these steps:\n",
    "\n",
    "> Use the class keyword to define a new class, followed by the name of the class.\n",
    "\n",
    "> Define the attributes of the class using the self keyword. The self keyword refers to the instance of the class, and it is used to access and modify the attributes of the class.\n",
    "\n",
    "> Define the methods of the class using the def keyword. The methods of the class are functions that are defined inside the class definition and that operate on the attributes of the class."
   ]
  },
  {
   "cell_type": "code",
   "execution_count": 8,
   "id": "16eeb284-8861-4f01-806a-c641608d28c4",
   "metadata": {},
   "outputs": [],
   "source": [
    "#Here is an example of a class definition in Python:\n",
    "\n",
    "class MyClass:\n",
    "    def __init__(self, value):\n",
    "        self.value = value\n",
    "\n",
    "    def increment(self):\n",
    "        self.value += 1"
   ]
  },
  {
   "cell_type": "markdown",
   "id": "50b69dc8-8aec-49fc-bc21-2b67378b4cb8",
   "metadata": {},
   "source": [
    "---\n",
    "Q8. How would you define the superclasses of a class?"
   ]
  },
  {
   "cell_type": "raw",
   "id": "2e5ba359-308e-4cdb-a501-8cedfbdfc459",
   "metadata": {},
   "source": [
    "A subclass is a class that derives from another class. A subclass inherits state and behavior from all of its ancestors. The term superclass refers to a class's direct ancestor as well as all of its ascendant classes.\n",
    "\n",
    "> A class that is derived from another class is called a subclass (also a derived class, extended class, or child class). \n",
    "\n",
    "> The class from which the subclass is derived is called a superclass (also a base class or a parent class)."
   ]
  },
  {
   "cell_type": "markdown",
   "id": "75e5577f-4634-4d97-8ae5-030bdf38882f",
   "metadata": {},
   "source": [
    "---\n",
    "Q9. What is the relationship between classes and modules?"
   ]
  },
  {
   "cell_type": "raw",
   "id": "f7c6a551-09c3-424b-b355-493ab1489d5d",
   "metadata": {},
   "source": [
    "A Module is a file that contains code that can be imported and used in other Python code. A module can contain any number of classes, functions, variables, and other code.\n",
    "\n",
    "A class is a template or blueprint for creating objects. It defines the attributes and behavior of a type of object, and it can be used to create as many objects of that type as you like.\n",
    "\n",
    "You can define a class in a module, and then import the module and use the class to create objects."
   ]
  },
  {
   "cell_type": "markdown",
   "id": "b6e1f36a-a81a-4764-9328-a77cd23cac27",
   "metadata": {},
   "source": [
    "---\n",
    "Q10. How do you make instances and classes?"
   ]
  },
  {
   "cell_type": "raw",
   "id": "39ed6df2-da06-42b2-850a-b64568a4094a",
   "metadata": {},
   "source": [
    "To create a class in Python, we can use the `class` keyword followed by the name of the class and a colon. Then, you can define the attributes and methods of the class using the `self` keyword to refer to the instance of the class."
   ]
  },
  {
   "cell_type": "code",
   "execution_count": 9,
   "id": "7f4be306-6129-46bd-bf79-1326ad093917",
   "metadata": {},
   "outputs": [],
   "source": [
    "class MyClass:\n",
    "    def __init__(self, value):\n",
    "        self.value = value\n",
    "\n",
    "    def increment(self):\n",
    "        self.value += 1"
   ]
  },
  {
   "cell_type": "markdown",
   "id": "6e8807a4-3ce3-460e-b6c1-1fda75175060",
   "metadata": {},
   "source": [
    "---\n",
    "Q11. Where and how should be class attributes created?"
   ]
  },
  {
   "cell_type": "raw",
   "id": "4653e0e7-bca6-40d6-8530-0fb204c091ed",
   "metadata": {},
   "source": [
    "A class attribute is shared by all instances of the class. \n",
    "To define a class attribute, you place it outside of the __init__() method"
   ]
  },
  {
   "cell_type": "markdown",
   "id": "a3f916a8-4064-4863-a594-4f3ad92244c2",
   "metadata": {},
   "source": [
    "---\n",
    "Q12. Where and how are instance attributes created?"
   ]
  },
  {
   "cell_type": "raw",
   "id": "46785c96-7a10-4027-a07e-5734a68803d3",
   "metadata": {},
   "source": [
    "Instance attributes are defined in the constructor. \n",
    "Defined directly inside a class. \n",
    "Defined inside a constructor using the self parameter."
   ]
  },
  {
   "cell_type": "markdown",
   "id": "d6bcdd06-075d-4cf1-a1b6-cb730fd4bb73",
   "metadata": {},
   "source": [
    "---\n",
    "Q13. What does the term \"self\" in a Python class mean?"
   ]
  },
  {
   "cell_type": "raw",
   "id": "461c07c1-bf53-46a2-a8c3-be1d3e2df4a3",
   "metadata": {},
   "source": [
    "The self parameter is a reference to the current instance of the class, and is used to access variables that belongs to the class."
   ]
  },
  {
   "cell_type": "markdown",
   "id": "fcceec69-65fc-4a4f-8987-88b939a397ce",
   "metadata": {},
   "source": [
    "---\n",
    "Q14. How does a Python class handle operator overloading?"
   ]
  },
  {
   "cell_type": "raw",
   "id": "dc325720-166d-45ee-9575-6ff2c9b4500b",
   "metadata": {},
   "source": [
    "Operator overloading allows you to define the behavior of built-in operators (such as +, -, *, etc.) when they are applied to objects of a class.\n",
    "\n",
    "To overload a built-in operator in a Python class, you need to define special methods in the class with names that start and end with `__` and that contain the operator symbol as the middle part of the name. \n",
    "These methods are called \"magic methods\" or \"dunder methods\"."
   ]
  },
  {
   "cell_type": "markdown",
   "id": "56d5cf2f-c3a2-43e0-aa35-395abb694c07",
   "metadata": {},
   "source": [
    "---\n",
    "Q15. When do you consider allowing operator overloading of your classes?"
   ]
  },
  {
   "cell_type": "raw",
   "id": "a32210a9-5c6b-4cfd-b892-5d7cd1a3ee31",
   "metadata": {},
   "source": [
    "The ability to provide the operators with a special meaning for a data type, this ability is known as operator overloading. For example, \n",
    "we can overload an operator '+' in a class like String so that we can concatenate two strings by just using +."
   ]
  },
  {
   "cell_type": "markdown",
   "id": "4178d9a4-de48-4d2e-98c4-3d9c242d6f5e",
   "metadata": {},
   "source": [
    "---\n",
    "Q16. What is the most popular form of operator overloading?"
   ]
  },
  {
   "cell_type": "raw",
   "id": "fbb95271-3f14-4b21-8446-deeacfeab70f",
   "metadata": {},
   "source": [
    " A very popular and convenient example is the Addition (+) operator. It performs “Addition” on numbers whereas it performs “Concatenation” on strings."
   ]
  },
  {
   "cell_type": "markdown",
   "id": "b28b5efb-a0d3-4708-b76d-c263c5d90abb",
   "metadata": {},
   "source": [
    "---\n",
    "Q17. What are the two most important concepts to grasp in order to comprehend Python OOP code?"
   ]
  },
  {
   "cell_type": "raw",
   "id": "0b411091-ed77-4506-81d3-5445e7f2573f",
   "metadata": {},
   "source": [
    "Both inheritance and polymorphism are fundamental concepts of OOP's python. We now have three different class and they all have a give_raise method.\n",
    "\n",
    "Although the name of the method is the same, it behaves differently for different type of objects. This is an example of polymorphism.\n",
    "\n",
    "Inheritance allows us to define a class that inherits all the methods and properties from another class. "
   ]
  },
  {
   "cell_type": "markdown",
   "id": "957d3ed6-0ce8-49db-a94b-6e3646a8ccfe",
   "metadata": {},
   "source": [
    "---\n",
    "Q18. Describe three applications for exception processing."
   ]
  },
  {
   "cell_type": "raw",
   "id": "f9176d12-8918-47e0-8de9-5c53c572a544",
   "metadata": {},
   "source": [
    "An exception is an event, which occurs during the execution of a program that disrupts the normal flow of the program's instructions. \n",
    "In general, when a Python script encounters a situation that it cannot cope with, it raises an exception.\n"
   ]
  },
  {
   "cell_type": "markdown",
   "id": "1340ea72-a627-43bd-8c6f-e664e6e49051",
   "metadata": {},
   "source": [
    "---\n",
    "Q19. What happens if you don't do something extra to treat an exception?"
   ]
  },
  {
   "cell_type": "raw",
   "id": "7eee80e5-d592-4ab1-8d6e-0a77a5683c74",
   "metadata": {},
   "source": [
    "If you don't do anything to handle an exception that is raised in your Python code, the exception will propagate up the call stack until it is caught by an exception handler or until it reaches the top of the call stack, at which point the program will terminate."
   ]
  },
  {
   "cell_type": "markdown",
   "id": "593470c7-1d66-4e72-89b4-a1cdb918e39d",
   "metadata": {},
   "source": [
    "---\n",
    "Q20. What are your options for recovering from an exception in your script?"
   ]
  },
  {
   "cell_type": "raw",
   "id": "39e1a9e8-3f10-4802-9f41-73c11fa7ddac",
   "metadata": {},
   "source": [
    "You can also provide a generic except clause, which handles any exception. After the except clause(s), you can include an else-clause. \n",
    "The code in the else-block executes if the code in the try: block does not raise an exception. \n",
    "The else-block is a good place for code that does not need the try: block's protection.\n"
   ]
  },
  {
   "cell_type": "markdown",
   "id": "47c8f529-1ad1-4df8-a559-b24460685cf4",
   "metadata": {},
   "source": [
    "---\n",
    "Q21. Describe two methods for triggering exceptions in your script."
   ]
  },
  {
   "cell_type": "raw",
   "id": "0dda7ea6-b363-47a6-a229-175fe2cbcefa",
   "metadata": {},
   "source": [
    "Try – This method catches the exceptions raised by the program. \n",
    "Raise – Triggers an exception manually using custom exceptions.\n",
    "\n",
    "    try:\n",
    "         x = int(input(“Enter a positive integer: “))\n",
    "         if x <= 0:\n",
    "             raise ValueError(“It is not a positive number!”)\n",
    "    except ValueError as val_e:\n",
    "        print(val_e)\n"
   ]
  },
  {
   "cell_type": "markdown",
   "id": "8fbdeba2-260a-4e25-9a41-c50c93c29477",
   "metadata": {},
   "source": [
    "---\n",
    "Q22. Identify two methods for specifying actions to be executed at termination time, regardless of\n",
    "whether or not an exception exists."
   ]
  },
  {
   "cell_type": "raw",
   "id": "84dffbb5-039c-475b-9d13-eafc802dd8b4",
   "metadata": {},
   "source": [
    "There are two ways to specify actions to be executed at termination time, regardless of whether or not an exception exists:\n",
    "\n",
    "1. Using the `finally` clause in a `try`-`except` block:\n",
    "The finally clause in a try-except block allows you to specify a block of code that will always be executed, regardless of whether an exception is raised or not. For example:\n",
    "\n",
    "2. Using the `atexit` module:\n",
    "The atexit module allows you to register a function to be executed at termination time, regardless of whether an exception exists. To use it, you can import the atexit module and use the register function to register a function "
   ]
  },
  {
   "cell_type": "markdown",
   "id": "04e78094-c21e-4b6e-8f97-05148cab7f44",
   "metadata": {},
   "source": [
    "---\n",
    "Q23. What is the purpose of the try statement?"
   ]
  },
  {
   "cell_type": "raw",
   "id": "4f1b19b5-e29d-4428-8cfb-36960437660c",
   "metadata": {},
   "source": [
    "The try statement allows you to define a block of code to be tested for errors while it is being executed.\n"
   ]
  },
  {
   "cell_type": "markdown",
   "id": "bfac2924-c59f-4b5a-b5de-28ca6de5c7cb",
   "metadata": {},
   "source": [
    "---\n",
    "Q24. What are the two most popular try statement variations?"
   ]
  },
  {
   "cell_type": "raw",
   "id": "0e689dbe-0225-4d43-ac12-75f804567029",
   "metadata": {},
   "source": [
    "In Python, the try statement is used to handle exceptions that may be raised in your code. There are two main variations of the try statement:\n",
    "\n",
    "1. `try`-`except`:\n",
    "The try-except statement allows you to catch and handle exceptions that are \n",
    "\n",
    "2. `try`-`except`-`else`:\n",
    "The try-except-else statement is similar to the try-except statement, but it also includes an else clause that is executed if no exception is raised in the "
   ]
  },
  {
   "cell_type": "markdown",
   "id": "1e2b9540-0be1-44a0-8181-9e9cc676cfd5",
   "metadata": {},
   "source": [
    "---\n",
    "Q25. What is the purpose of the raise statement?"
   ]
  },
  {
   "cell_type": "raw",
   "id": "d05b6aff-f1d9-4c5f-92d2-d564f762d018",
   "metadata": {},
   "source": [
    "The raise statement is used to raise an exception. It allows you to signal that an error or exceptional condition has occurred in your code and to specify the details of the exception."
   ]
  },
  {
   "cell_type": "markdown",
   "id": "7a2e52ce-0e37-46a5-ad80-c5f00dc49d4e",
   "metadata": {},
   "source": [
    "---\n",
    "Q26. What does the assert statement do, and what other statement is it like?"
   ]
  },
  {
   "cell_type": "raw",
   "id": "a27b1936-6790-4503-9421-ecd0ba89f7ad",
   "metadata": {},
   "source": [
    "In Python, the raise statement is used to raise an exception. It allows you to signal that an error or exceptional condition has occurred in your code and to specify the details of the exception.\n",
    "\n",
    "Here is an example of using the raise statement in Python:"
   ]
  },
  {
   "cell_type": "markdown",
   "id": "eebbe8d4-df3e-40f0-b384-34d57e71c9c5",
   "metadata": {},
   "source": [
    "---\n",
    "Q27. What is the purpose of the with/as argument, and what other statement is it like?"
   ]
  },
  {
   "cell_type": "raw",
   "id": "aa49424e-abc3-4829-952b-4c178edfcfaf",
   "metadata": {},
   "source": [
    "With statement is used in exception handling to make the code cleaner and much more readable."
   ]
  },
  {
   "cell_type": "markdown",
   "id": "dcbfa454-8f6f-4648-b49d-a9c1e993cad5",
   "metadata": {},
   "source": [
    "---\n",
    "Q28. What are *args, **kwargs?"
   ]
  },
  {
   "cell_type": "raw",
   "id": "269f7019-d014-4421-961f-c9418e2717e2",
   "metadata": {},
   "source": [
    "*args specifies the number of non-keyworded arguments that can be passed and the operations that can be performed on the function in Python.\n",
    "\n",
    "**kwargs is a variable number of keyworded arguments that can be passed to a function that can perform dictionary operations."
   ]
  },
  {
   "cell_type": "markdown",
   "id": "d48c5123-b68c-4abb-96f1-e709f4e50c47",
   "metadata": {},
   "source": [
    "---\n",
    "Q29. How can I pass optional or keyword parameters from one function to another?"
   ]
  },
  {
   "cell_type": "raw",
   "id": "4dbdb5db-84c6-4998-9464-72df2c275c77",
   "metadata": {},
   "source": [
    "collect the arguments using the * and ** in the function’s parameter list.\n",
    "Through this, you will get the positional arguments as a tuple and the keyword arguments as a dictionary. \n",
    "Pass these arguments when calling another function by using * and ** "
   ]
  },
  {
   "cell_type": "markdown",
   "id": "fabd0113-fc4d-464d-b6d4-d4aa2f386780",
   "metadata": {},
   "source": [
    "---\n",
    "Q30. What are Lambda Functions?"
   ]
  },
  {
   "cell_type": "raw",
   "id": "7cc5532d-c52a-40bf-a087-344f5bf12b41",
   "metadata": {},
   "source": [
    "A lambda function can take any number of arguments, but can only have one expression.\n",
    "x = lambda a, b, c : a + b + c\n",
    "print(x(5, 6, 2))"
   ]
  },
  {
   "cell_type": "markdown",
   "id": "f39acbc9-8627-46e0-915b-ff0504f63070",
   "metadata": {},
   "source": [
    "---\n",
    "Q31. Explain Inheritance in Python with an example?"
   ]
  },
  {
   "cell_type": "raw",
   "id": "2be03d4f-4111-4ea2-b34b-9d0e89343b14",
   "metadata": {},
   "source": [
    "Inheritance relationship defines the classes that inherit from other classes as derived, subclass, or sub-type classes"
   ]
  },
  {
   "cell_type": "code",
   "execution_count": 10,
   "id": "43241dde-757d-4016-a6e8-a9bd5b7261ea",
   "metadata": {},
   "outputs": [
    {
     "name": "stdout",
     "output_type": "stream",
     "text": [
      "Base1\n",
      "Base2\n",
      "Derived\n",
      "str1 str2\n"
     ]
    }
   ],
   "source": [
    "\n",
    "        class Base1(object):\n",
    "            def __init__(self):\n",
    "                self.str1 = \"str1\"\n",
    "                print(\"Base1\")\n",
    "        class Base2(object):\n",
    "            def __init__(self):\n",
    "                self.str2 = \"str2\"\n",
    "                print(\"Base2\")\n",
    "        class Derived(Base1, Base2):\n",
    "            def __init__(self):\n",
    "                Base1.__init__(self)\n",
    "                Base2.__init__(self)\n",
    "                print(\"Derived\")\n",
    "            def printStrs(self):\n",
    "                print(self.str1, self.str2)\n",
    "        ob = Derived()\n",
    "        ob.printStrs()"
   ]
  },
  {
   "cell_type": "markdown",
   "id": "4ed6fab8-ff6f-4931-9737-7cbf0946d803",
   "metadata": {},
   "source": [
    "---\n",
    "Q32. Suppose class C inherits from classes A and B as class C(A,B).Classes A and B both have their own versions of method func(). If we call func() from an object of class C, which version gets invoked?"
   ]
  },
  {
   "cell_type": "raw",
   "id": "a8c71b79-3225-4cd9-a065-9746ddf4f1ae",
   "metadata": {},
   "source": [
    "First it will search in amin class C nad then it start searching from left to right from Class A to Class B. So it will the func from Class A"
   ]
  },
  {
   "cell_type": "markdown",
   "id": "fc24654c-b23d-4ca2-a04c-a83bb8b44109",
   "metadata": {},
   "source": [
    "---\n",
    "Q33. Which methods/functions do we use to determine the type of instance and inheritance?"
   ]
  },
  {
   "cell_type": "raw",
   "id": "e722be6e-6a3e-433f-a4bc-aba7e85ed5ce",
   "metadata": {},
   "source": [
    "The isinstance() method checks whether an object is an instance of a class.\n",
    " issubclass() method asks whether one class is a subclass of another class (or other classes)."
   ]
  },
  {
   "cell_type": "code",
   "execution_count": 11,
   "id": "fd724d39-2244-4a88-80c7-b13d9950e2ef",
   "metadata": {},
   "outputs": [
    {
     "name": "stdout",
     "output_type": "stream",
     "text": [
      "True\n",
      "True\n",
      "False\n"
     ]
    }
   ],
   "source": [
    "    class MyClass(object):\n",
    "      pass\n",
    "    class MySubClass(MyClass):\n",
    "      pass\n",
    "    print(isinstance(MySubClass, object))\n",
    "    print(issubclass(MySubClass, MyClass))\n",
    "    print(isinstance(MySubClass, MyClass))"
   ]
  },
  {
   "cell_type": "markdown",
   "id": "28a8344a-357d-4eb7-9f25-532afb061aca",
   "metadata": {},
   "source": [
    "---\n",
    "Q34.Explain the use of the 'nonlocal' keyword in Python."
   ]
  },
  {
   "cell_type": "raw",
   "id": "b531d77f-a2d2-4131-89ae-356720109968",
   "metadata": {},
   "source": [
    "The nonlocal keyword is used to work with variables inside nested functions, where the variable should not belong to the inner function."
   ]
  },
  {
   "cell_type": "markdown",
   "id": "aba843ae-afa7-4ab2-b450-c15b37a2f340",
   "metadata": {},
   "source": [
    "---\n",
    "Q35. What is the global keyword?"
   ]
  },
  {
   "cell_type": "raw",
   "id": "fe02274e-c5ba-442c-a6cf-3f59a8ae884a",
   "metadata": {},
   "source": [
    "List can be created in python using []. lst = [] --> empty list lst = [1,2,3] --> numeric list lst = ['a', 'bc', 'd'] --> string list lst = ['abc', 'xyz', 1] --> alphanumeric list"
   ]
  },
  {
   "cell_type": "raw",
   "id": "86152573-3661-44e2-af87-51ff42ca53d8",
   "metadata": {},
   "source": [
    "In Python, the global keyword is used to indicate that a variable is a global variable, i.e., a variable that is defined outside of any function or class and is available in the global scope.\n",
    "\n",
    "Here is an example of using the global keyword in Python:"
   ]
  },
  {
   "cell_type": "code",
   "execution_count": 12,
   "id": "4653b8ff-4c7c-4653-afb5-fcaa1365b4f2",
   "metadata": {},
   "outputs": [
    {
     "name": "stdout",
     "output_type": "stream",
     "text": [
      "20\n"
     ]
    }
   ],
   "source": [
    "x = 10  # global variable\n",
    "\n",
    "def func():\n",
    "    global x\n",
    "    x = 20  # modifying the global variable\n",
    "\n",
    "func()\n",
    "print(x)  # Output: 20\n"
   ]
  },
  {
   "cell_type": "raw",
   "id": "90d38e56-634e-4308-a34e-f1d70a437049",
   "metadata": {},
   "source": [
    "The End"
   ]
  },
  {
   "cell_type": "markdown",
   "id": "475d324f-9e11-487d-a992-b5264697a4c5",
   "metadata": {},
   "source": [
    "---"
   ]
  }
 ],
 "metadata": {
  "kernelspec": {
   "display_name": "Python 3 (ipykernel)",
   "language": "python",
   "name": "python3"
  },
  "language_info": {
   "codemirror_mode": {
    "name": "ipython",
    "version": 3
   },
   "file_extension": ".py",
   "mimetype": "text/x-python",
   "name": "python",
   "nbconvert_exporter": "python",
   "pygments_lexer": "ipython3",
   "version": "3.9.12"
  }
 },
 "nbformat": 4,
 "nbformat_minor": 5
}
